{
 "cells": [
  {
   "cell_type": "markdown",
   "metadata": {},
   "source": [
    "<center style=\"font-size: 32px; font-weight: bold; \">\n",
    "                        Обучения слоя  Embedding\n",
    "</center>\n",
    "\n",
    "\n",
    "\n",
    "Описание: <a href=\"http://qudata.com/ml/ru/NN_Embedding.html\">NN_Embedding.html</a>,\n",
    "<a href=\"http://qudata.com/ml/ru/NN_Embedding_Layer.html\">NN_Embedding_Layer_Keras.html</a>,\n",
    "          "
   ]
  },
  {
   "cell_type": "markdown",
   "metadata": {},
   "source": [
    "# Библиотеки и функции"
   ]
  },
  {
   "cell_type": "code",
   "execution_count": 1,
   "metadata": {},
   "outputs": [
    {
     "name": "stdout",
     "output_type": "stream",
     "text": [
      "python:     3.7.6 (tags/v3.7.6:43364a7ae0, Dec 19 2019, 00:42:30) [MSC v.1916 64 bit (AMD64)]\n",
      "numpy:      1.18.1\n",
      "pandas:     1.0.3\n",
      "matplotlib: 3.2.0\n",
      "torch:      1.4.0\n"
     ]
    }
   ],
   "source": [
    "import time         # %%time - должно быть первой командой блока\n",
    "import numpy as np                                # работа с тензорами\n",
    "import matplotlib.pyplot as plt                   # постороение графиков\n",
    "import importlib\n",
    "import pandas as pd                               # csv-файлы\n",
    "\n",
    "import torch\n",
    "import torch.nn as nn\n",
    "\n",
    "import sys, numpy, matplotlib, pandas\n",
    "print(\"python:    \", sys.version)\n",
    "print(\"numpy:     \", numpy.__version__)\n",
    "print(\"pandas:    \", pandas.__version__)\n",
    "print(\"matplotlib:\", matplotlib.__version__)\n",
    "print(\"torch:     \", torch.__version__)\n",
    "\n",
    "np.set_printoptions(precision=3, suppress=True)   # число цифр после точки в print"
   ]
  },
  {
   "cell_type": "markdown",
   "metadata": {},
   "source": [
    "# Загрузка текстов\n",
    "<a class=\"anchor\" id=\"load\"></a>"
   ]
  },
  {
   "cell_type": "markdown",
   "metadata": {},
   "source": [
    "## ROCStories"
   ]
  },
  {
   "cell_type": "code",
   "execution_count": 4,
   "metadata": {},
   "outputs": [
    {
     "name": "stdout",
     "output_type": "stream",
     "text": [
      "len(docs): 98167\n",
      "[\" dan 's parents were overweight . \", ' dan was overweight as well . ', ' the doctors told his parents it was unhealthy . ', ' his parents understood and decided to make a change . ', ' they got themselves and dan on a diet . '] [' the orange fell from the tree . ', ' it hit a girl on the head . ', ' the girl looked up at the tree . ', ' another orange fell from the tree . ', ' that orange broke her nose . ']\n",
      "Wall time: 16.4 s\n"
     ]
    }
   ],
   "source": [
    "%%time\n",
    "import my_nlp                         # см. файл my_npl.py\n",
    "importlib.reload(my_nlp)                              \n",
    "\n",
    "df = pd.read_csv('C:/!/Data/nlp/ROCStories/100KStories.zip', sep=',')  \n",
    "\n",
    "docs = []\n",
    "for i in range( len(df) ):\n",
    "    sents = []\n",
    "    for j in range(5):\n",
    "        sents.append( my_nlp.preprocess( df.iloc[i,2+j]) )   \n",
    "    docs.append(sents)\n",
    "        \n",
    "print(\"len(docs):\", len(docs))\n",
    "print(docs[0], docs[-1])        "
   ]
  },
  {
   "cell_type": "markdown",
   "metadata": {},
   "source": [
    "## Составляем словарь"
   ]
  },
  {
   "cell_type": "code",
   "execution_count": 5,
   "metadata": {},
   "outputs": [
    {
     "name": "stdout",
     "output_type": "stream",
     "text": [
      "Words in text:    4859629\n",
      "Initial vocab:      36566\n",
      "Finish  vocab:       1005\n",
      "Entropy      :      4.811\n",
      "['<NUL>', '<BOS>', '<SEP>', '<CVR>', '<UNK>', '.', 'the', 'to', 'a', 'was', 'he', 'she', 'and', 'her', ',', 'his', 'it', 'i', 'in', 'of', 'for', 'had', 'on', 'they', 'at', 'with', 'that', 'up', \"'s\", 'out', 'him', 'my', 'one', 'went', 'day', 'when', 'but', 'got', 'decided', 'all', 'were', '!', 'so', 'wanted', 'new', 'as', 'an', 'very', 'them', 'not', 'home', 'from', 'after', 'we', 'get', 'time', 'would', 'is', 'go', 'took', 'there', 'be', \"didn't\", 'friends', 'about', 'some', 'found', 'tom', 'into', 'made', 'school', 'told', 'work', 'then', 'friend', 'car', 'me', 'back', 'could', 'have', 'over', 'their', 'saw', 'by', 'loved', 'bought', 'started', 'house', 'first', 'down', 'did', 'night', 'finally', 'came', 'tried', 'asked', 'off', 'never', 'store', 'this']\n",
      "Wall time: 1.59 s\n"
     ]
    }
   ],
   "source": [
    "%%time\n",
    "import my_nlp               # см. файл my_npl.py\n",
    "importlib.reload(my_nlp)                              \n",
    "\n",
    "# максимальный размер словаря (+ 5 служебных слов):\n",
    "V_DIM, id_to_word, word_to_id = my_nlp.create_vocabulary(docs, 1000)\n",
    "\n",
    "print(id_to_word[:100])"
   ]
  },
  {
   "cell_type": "code",
   "execution_count": null,
   "metadata": {},
   "outputs": [],
   "source": [
    "n:    100    1000   5000   10000    36562\n",
    "H:  2.913   4.811  5.841   6.080    6.247\n",
    "P:     18     123    344     437      516"
   ]
  },
  {
   "cell_type": "code",
   "execution_count": 28,
   "metadata": {},
   "outputs": [
    {
     "data": {
      "text/plain": [
       "array([ 18.412, 122.854, 344.123, 437.029, 516.461])"
      ]
     },
     "execution_count": 28,
     "metadata": {},
     "output_type": "execute_result"
    }
   ],
   "source": [
    "np.exp(np.array([2.913,   4.811,  5.841,   6.080,     6.247]))"
   ]
  },
  {
   "cell_type": "code",
   "execution_count": null,
   "metadata": {},
   "outputs": [],
   "source": [
    "for i,w in enumerate(id_to_word):\n",
    "    if i > len(id_to_word)-100: \n",
    "    #if word_to_id[w]['pm'] == 12:\n",
    "        print(f\"{w:5s}  {word_to_id[w]['pm']:5.4f}\")    "
   ]
  },
  {
   "cell_type": "markdown",
   "metadata": {},
   "source": [
    "Алфавит:"
   ]
  },
  {
   "cell_type": "code",
   "execution_count": 6,
   "metadata": {},
   "outputs": [
    {
     "name": "stdout",
     "output_type": "stream",
     "text": [
      "36 :\n",
      " ['!', '$', \"'\", ',', '.', '0', '1', '2', '3', '5', 'a', 'b', 'c', 'd', 'e', 'f', 'g', 'h', 'i', 'j', 'k', 'l', 'm', 'n', 'o', 'p', 'q', 'r', 's', 't', 'u', 'v', 'w', 'x', 'y', 'z'] \n",
      "\n"
     ]
    }
   ],
   "source": [
    "abc = set()\n",
    "for w in id_to_word[5:]:                            # без 5 служебных слов !!!\n",
    "    for c in w:\n",
    "        abc.add(c)\n",
    "chars = sorted(abc)\n",
    "ch2id = dict( (c,i) for i,c in enumerate(chars))    # таблица перевода char -> index\n",
    "id2ch = dict( (i,c) for i,c in enumerate(chars))    # таблица перевода index -> char\n",
    "\n",
    "print(len(chars), \":\\n\", chars, \"\\n\")"
   ]
  },
  {
   "cell_type": "markdown",
   "metadata": {},
   "source": [
    "## IDF Weights"
   ]
  },
  {
   "cell_type": "code",
   "execution_count": 4,
   "metadata": {},
   "outputs": [
    {
     "name": "stdout",
     "output_type": "stream",
     "text": [
      "Wall time: 12.8 s\n"
     ]
    }
   ],
   "source": [
    "%%time\n",
    "importlib.reload(my_nlp)                               # см. файл my_npl.py\n",
    "                            \n",
    "idf = my_nlp.create_idf(docs, V_DIM,  word_to_id)\n",
    "weight = torch.tensor(idf)"
   ]
  },
  {
   "cell_type": "code",
   "execution_count": 111,
   "metadata": {},
   "outputs": [
    {
     "name": "stdout",
     "output_type": "stream",
     "text": [
      "[1.463 0.16  1.463 1.463 1.463 0.117 0.139 0.138 0.148 0.16 ] (10398,) float32\n"
     ]
    },
    {
     "data": {
      "image/png": "[encoded data removed]",
      "text/plain": [
       "<Figure size 432x288 with 1 Axes>"
      ]
     },
     "metadata": {
      "needs_background": "light"
     },
     "output_type": "display_data"
    }
   ],
   "source": [
    "print(idf[:10], idf.shape, idf.dtype)\n",
    "\n",
    "plt.plot(np.arange(5, V_DIM), idf[5:])\n",
    "plt.ylabel(r'$w_\\alpha$',  {'color': 'C0', 'fontsize': 20})\n",
    "plt.show()"
   ]
  },
  {
   "cell_type": "code",
   "execution_count": 112,
   "metadata": {},
   "outputs": [
    {
     "name": "stdout",
     "output_type": "stream",
     "text": [
      ".        97442     2.3   0.1172\n",
      "the      43773     3.1   0.1393\n",
      "a        28664     3.6   0.1477\n",
      "and      19082     4.0   0.1797\n",
      "cat        559     7.5   0.6213\n",
      "zeus         2    12.9   1.2747\n"
     ]
    }
   ],
   "source": [
    "for w in [ \".\", \"the\", \"a\", \"and\", \"cat\", \"zeus\"]:\n",
    "    print( f\"{w:8s} {word_to_id[w]['pm']:5.0f}   {-np.log(word_to_id[w]['pm']/1e6):5.1f}   {idf[word_to_id[w]['id']]:.4f}\")"
   ]
  },
  {
   "cell_type": "markdown",
   "metadata": {},
   "source": [
    "## Поиск в предложениях"
   ]
  },
  {
   "cell_type": "code",
   "execution_count": 16,
   "metadata": {},
   "outputs": [
    {
     "name": "stdout",
     "output_type": "stream",
     "text": [
      "17627| paying the for the lumber , we headed home . |\n",
      "1\n"
     ]
    }
   ],
   "source": [
    "i = 0\n",
    "for id_d, d in enumerate(docs):                      # по документам\n",
    "    for s in d:                     # по предложениям документа\n",
    "        id = s.find(\" the for \")\n",
    "        if id >= 0:\n",
    "            print(\"%5d|%s|\" % (id_d, s))\n",
    "            i += 1\n",
    "print(i)"
   ]
  },
  {
   "cell_type": "code",
   "execution_count": 63,
   "metadata": {},
   "outputs": [
    {
     "data": {
      "text/plain": [
       "11.9556"
      ]
     },
     "execution_count": 63,
     "metadata": {},
     "output_type": "execute_result"
    }
   ],
   "source": [
    "2.46*4.86"
   ]
  },
  {
   "cell_type": "markdown",
   "metadata": {},
   "source": [
    "## Закон Ципфа"
   ]
  },
  {
   "cell_type": "code",
   "execution_count": null,
   "metadata": {},
   "outputs": [],
   "source": [
    "from   sklearn import linear_model\n",
    "\n",
    "x,y = [],[]\n",
    "for i,w in enumerate(word_to_id):\n",
    "    if i >=5:\n",
    "        y.append(word_to_id[w][\"pm\"])\n",
    "        x.append(i-4)\n",
    "        \n",
    "ranges = [ (5,len(x)), (5,1005), (5005, len(x)) ]\n",
    "titles = [ \"все\", \"частые\", \"редкие\"]\n",
    "plt.figure(figsize=(5*len(ranges),5))      \n",
    "for i,r in enumerate(ranges):\n",
    "    r1, r2 = r[0], r[1]\n",
    "    plt.subplot(1, len(ranges), i+1) \n",
    "    plt.xscale(\"log\")\n",
    "    plt.yscale(\"log\")\n",
    "    plt.scatter(x[r1:r2],y[r1:r2], s=1)\n",
    "    plt.title (titles[i])\n",
    "    #plt.xlabel('i')  \n",
    "    if i > 0:\n",
    "        regr = linear_model.LinearRegression()    \n",
    "        X = np.log(np.array(x[r1:r2])).reshape(-1,1)\n",
    "        regr.fit(X, np.log(y[r1:r2]) )\n",
    "        Y = regr.predict(X)\n",
    "        plt.plot(np.exp(X),np.exp(Y))\n",
    "        plt.legend(['y = %.1f%.2f*x ' % (regr.intercept_ , regr.coef_[0])])\n",
    "\n",
    "plt.show()"
   ]
  },
  {
   "cell_type": "markdown",
   "metadata": {},
   "source": [
    "# Вычислительные устройства"
   ]
  },
  {
   "cell_type": "code",
   "execution_count": 12,
   "metadata": {},
   "outputs": [
    {
     "name": "stdout",
     "output_type": "stream",
     "text": [
      "cuda.is_available:  False\n",
      "cpu\n"
     ]
    },
    {
     "ename": "NameError",
     "evalue": "name 'weight' is not defined",
     "output_type": "error",
     "traceback": [
      "\u001b[1;31m---------------------------------------------------------------------------\u001b[0m",
      "\u001b[1;31mNameError\u001b[0m                                 Traceback (most recent call last)",
      "\u001b[1;32m<ipython-input-12-6e805dd72557>\u001b[0m in \u001b[0;36m<module>\u001b[1;34m\u001b[0m\n\u001b[0;32m      5\u001b[0m \u001b[0mprint\u001b[0m\u001b[1;33m(\u001b[0m\u001b[0mgpu\u001b[0m\u001b[1;33m)\u001b[0m\u001b[1;33m\u001b[0m\u001b[1;33m\u001b[0m\u001b[0m\n\u001b[0;32m      6\u001b[0m \u001b[1;33m\u001b[0m\u001b[0m\n\u001b[1;32m----> 7\u001b[1;33m \u001b[0mweight\u001b[0m \u001b[1;33m=\u001b[0m \u001b[0mweight\u001b[0m\u001b[1;33m.\u001b[0m\u001b[0mto\u001b[0m\u001b[1;33m(\u001b[0m\u001b[0mgpu\u001b[0m\u001b[1;33m)\u001b[0m\u001b[1;33m\u001b[0m\u001b[1;33m\u001b[0m\u001b[0m\n\u001b[0m\u001b[0;32m      8\u001b[0m \u001b[1;33m\u001b[0m\u001b[0m\n",
      "\u001b[1;31mNameError\u001b[0m: name 'weight' is not defined"
     ]
    }
   ],
   "source": [
    "print(\"cuda.is_available: \", torch.cuda.is_available())\n",
    "\n",
    "cpu = torch.device(\"cpu\")  \n",
    "gpu = torch.device(\"cuda:0\" if torch.cuda.is_available() else \"cpu\")  \n",
    "print(gpu)\n",
    "\n",
    "weight = weight.to(gpu)\n",
    "\n"
   ]
  },
  {
   "cell_type": "markdown",
   "metadata": {},
   "source": [
    "# Skip-gram with Softmax\n",
    "## Обучающие данные"
   ]
  },
  {
   "cell_type": "code",
   "execution_count": 212,
   "metadata": {},
   "outputs": [
    {
     "name": "stdout",
     "output_type": "stream",
     "text": [
      "pairs: 45671880 \n",
      " [('dan', \"'s\"), ('dan', 'parents'), ('dan', 'were'), ('dan', 'overweight'), ('dan', '.'), (\"'s\", 'dan'), (\"'s\", 'parents'), (\"'s\", 'were')]\n"
     ]
    }
   ],
   "source": [
    "def get_pairs(words, WIN, pairs):\n",
    "    for i1, w1 in enumerate(words):               \n",
    "        if not w1 in word_to_id: continue\n",
    "    \n",
    "        i2_beg = max(0, i1-WIN)\n",
    "        for i2 in range(i2_beg, min(i1+1+WIN, len(words)) ):  # вокруг  w1            \n",
    "            if i2 != i1 and words[i2] in word_to_id:\n",
    "                pairs.append((w1, words[i2]))  \n",
    "\n",
    "pairs = []                                     # список пар\n",
    "WIN   = 100                                    # слов слева и справа от центрального\n",
    "for doc in docs:\n",
    "    for sent in doc:                           # бежим по предложениям\n",
    "        get_pairs(sent.split(), WIN, pairs) \n",
    "\n",
    "print(\"pairs:\",len(pairs),\"\\n\", pairs[:8])"
   ]
  },
  {
   "cell_type": "code",
   "execution_count": 204,
   "metadata": {},
   "outputs": [
    {
     "name": "stdout",
     "output_type": "stream",
     "text": [
      "(45671880, 1) (45671880,)\n"
     ]
    }
   ],
   "source": [
    "def create_skip_gram_softmax_dat(pairs):\n",
    "    \"\"\"Cоздаём обучающие  данные для метода Skip-gram с negative sampling\"\"\"\n",
    "    \n",
    "    X = np.zeros((len(pairs), 1),   dtype=np.int64)\n",
    "    Y = np.zeros((len(pairs)),      dtype=np.int64)    \n",
    "\n",
    "    for i,(u,w) in enumerate(pairs):        \n",
    "        X[i,0] = word_to_id[u][\"id\"]\n",
    "        Y[i]   = word_to_id[w][\"id\"]\n",
    "        \n",
    "    idx = np.random.permutation(Y.shape[0])   # целые индексы в случайном пордяке\n",
    "    X = X[idx]                                # с их помощью перемешиваем данные\n",
    "    Y = Y[idx]    \n",
    "    return X, Y\n",
    "\n",
    "X, Y = create_skip_gram_softmax_dat(pairs)                # не все примеры!!!!   \n",
    "\n",
    "print(X.shape, Y.shape)"
   ]
  },
  {
   "cell_type": "markdown",
   "metadata": {},
   "source": [
    "## Модель"
   ]
  },
  {
   "cell_type": "code",
   "execution_count": 6,
   "metadata": {},
   "outputs": [
    {
     "name": "stdout",
     "output_type": "stream",
     "text": [
      "Sequential(\n",
      "  (0): Embedding(10398, 100, scale_grad_by_freq=True)\n",
      "  (1): Flatten()\n",
      "  (2): Linear(in_features=100, out_features=10398, bias=False)\n",
      ")\n",
      "-----------------------------------------------------------------------\n",
      "             Layer (type)               Output Shape         Param #\n",
      "=======================================================================\n",
      "              Embedding-1               [-1, 1, 100]       1,039,800\n",
      "                Flatten-2                  [-1, 100]               0\n",
      "                 Linear-3                [-1, 10398]       1,039,800\n",
      "=======================================================================\n",
      "Total params: 2,079,600\n",
      "Trainable params: 2,079,600\n",
      "Non-trainable params: 0\n",
      "-----------------------------------------------------------------------\n"
     ]
    }
   ],
   "source": [
    "E_DIM   =  100                                               # размерность векторов\n",
    " \n",
    "model = nn.Sequential(                                       # (N,1)   input X\n",
    "        nn.Embedding(V_DIM, E_DIM, scale_grad_by_freq=True), # (N,1,E)\n",
    "        nn.Flatten(),                                        # (N,E)\n",
    "        nn.Linear   (E_DIM, V_DIM, bias=False))              # (N,V)   CrossEntropyLoss\n",
    "\n",
    "model.to(gpu)\n",
    "print(model)\n",
    "\n",
    "from   modelsummary import summary\n",
    "summary(model, torch.zeros(1, 1, dtype=torch.long).to(gpu), show_input=False)"
   ]
  },
  {
   "cell_type": "code",
   "execution_count": null,
   "metadata": {},
   "outputs": [],
   "source": [
    "E = model[0].weight                 # (V_DIM, E_DIM)\n",
    "W = model[2].weight                 # (E_DIM,  V_DIM)\n",
    "print(E.shape, W.shape)\n",
    "new_E = 0.5*(E+W)                   # (V_DIM, E_DIM)"
   ]
  },
  {
   "cell_type": "code",
   "execution_count": 215,
   "metadata": {},
   "outputs": [
    {
     "data": {
      "text/plain": [
       "tensor([[ 0.0000,  0.0000,  0.0000,  ...,  0.0000,  0.0000,  0.0000],\n",
       "        [ 0.0000,  0.0000,  0.0000,  ...,  0.0000,  0.0000,  0.0000],\n",
       "        [ 0.0000,  0.0000,  0.0000,  ...,  0.0000,  0.0000,  0.0000],\n",
       "        ...,\n",
       "        [-0.8584,  0.3006,  0.8313,  ...,  0.1549,  0.6241,  0.0605],\n",
       "        [-0.8442,  0.0573, -0.1974,  ..., -0.4936, -0.2770, -0.2365],\n",
       "        [-0.8459,  0.0443, -0.2735,  ..., -0.4324,  0.3081, -0.9279]])"
      ]
     },
     "execution_count": 215,
     "metadata": {},
     "output_type": "execute_result"
    }
   ],
   "source": [
    "E = model[0].weight.detach()\n",
    "W = model[2].weight.detach()\n",
    "\n",
    "E.copy_(w2v.vectors)\n",
    "W.copy_(w2v.vectors)"
   ]
  },
  {
   "cell_type": "code",
   "execution_count": 133,
   "metadata": {},
   "outputs": [
    {
     "name": "stdout",
     "output_type": "stream",
     "text": [
      "torch.Size([10398, 100])\n",
      "torch.Size([10398, 100])\n",
      "Parameter containing:\n",
      "tensor([[ 0.0000,  0.0000,  0.0000,  ...,  0.0000,  0.0000,  0.0000],\n",
      "        [ 0.0000,  0.0000,  0.0000,  ...,  0.0000,  0.0000,  0.0000],\n",
      "        [ 0.0000,  0.0000,  0.0000,  ...,  0.0000,  0.0000,  0.0000],\n",
      "        ...,\n",
      "        [-0.8584,  0.3006,  0.8313,  ...,  0.1549,  0.6241,  0.0605],\n",
      "        [-0.8442,  0.0573, -0.1974,  ..., -0.4936, -0.2770, -0.2365],\n",
      "        [-0.8459,  0.0443, -0.2735,  ..., -0.4324,  0.3081, -0.9279]],\n",
      "       requires_grad=True)\n"
     ]
    }
   ],
   "source": [
    "print(model[0].weight.shape)\n",
    "print(w2v.vectors.shape)\n",
    "print(model[0].weight)"
   ]
  },
  {
   "cell_type": "markdown",
   "metadata": {},
   "source": [
    "## Обучение"
   ]
  },
  {
   "cell_type": "code",
   "execution_count": 216,
   "metadata": {},
   "outputs": [
    {
     "name": "stdout",
     "output_type": "stream",
     "text": [
      "   0% 15:53:20 loss: 167.5716 (144.9872) cat_acc: 0.0017 (0.0024) 0018) "
     ]
    },
    {
     "ename": "KeyboardInterrupt",
     "evalue": "",
     "output_type": "error",
     "traceback": [
      "\u001b[1;31m---------------------------------------------------------------------------\u001b[0m",
      "\u001b[1;31mKeyboardInterrupt\u001b[0m                         Traceback (most recent call last)",
      "\u001b[1;32m<ipython-input-216-8da467f432d8>\u001b[0m in \u001b[0;36m<module>\u001b[1;34m\u001b[0m\n\u001b[0;32m     11\u001b[0m     \u001b[1;31m#train.optimizer = torch.optim.Adam(params, lr=0.001, betas=(0.9, 0.999) )\u001b[0m\u001b[1;33m\u001b[0m\u001b[1;33m\u001b[0m\u001b[1;33m\u001b[0m\u001b[0m\n\u001b[0;32m     12\u001b[0m \u001b[1;33m\u001b[0m\u001b[0m\n\u001b[1;32m---> 13\u001b[1;33m     \u001b[0mtrain\u001b[0m\u001b[1;33m.\u001b[0m\u001b[0mfit\u001b[0m\u001b[1;33m(\u001b[0m\u001b[0mX\u001b[0m\u001b[1;33m,\u001b[0m \u001b[0mY\u001b[0m\u001b[1;33m,\u001b[0m \u001b[1;36m512\u001b[0m\u001b[1;33m,\u001b[0m \u001b[0mtrain\u001b[0m\u001b[1;33m=\u001b[0m\u001b[1;32mTrue\u001b[0m\u001b[1;33m)\u001b[0m\u001b[1;33m\u001b[0m\u001b[1;33m\u001b[0m\u001b[0m\n\u001b[0m",
      "\u001b[1;32mC:\\!\\!Qudata\\ml\\ru\\py\\my_train.py\u001b[0m in \u001b[0;36mfit\u001b[1;34m(self, X, Y, batch_size, train, show)\u001b[0m\n\u001b[0;32m    120\u001b[0m \u001b[1;33m\u001b[0m\u001b[0m\n\u001b[0;32m    121\u001b[0m             \u001b[0my\u001b[0m \u001b[1;33m=\u001b[0m \u001b[0mself\u001b[0m\u001b[1;33m.\u001b[0m\u001b[0mmodel\u001b[0m\u001b[1;33m(\u001b[0m\u001b[0mxb\u001b[0m\u001b[1;33m)\u001b[0m                           \u001b[1;31m# прямое распространение\u001b[0m\u001b[1;33m\u001b[0m\u001b[1;33m\u001b[0m\u001b[0m\n\u001b[1;32m--> 122\u001b[1;33m             \u001b[0mloss\u001b[0m \u001b[1;33m=\u001b[0m \u001b[0mself\u001b[0m\u001b[1;33m.\u001b[0m\u001b[0mcriterion\u001b[0m\u001b[1;33m(\u001b[0m\u001b[0my\u001b[0m\u001b[1;33m,\u001b[0m \u001b[0myb\u001b[0m\u001b[1;33m)\u001b[0m                 \u001b[1;31m# вычисляем ошибку\u001b[0m\u001b[1;33m\u001b[0m\u001b[1;33m\u001b[0m\u001b[0m\n\u001b[0m\u001b[0;32m    123\u001b[0m \u001b[1;33m\u001b[0m\u001b[0m\n\u001b[0;32m    124\u001b[0m             \u001b[1;32mif\u001b[0m \u001b[0mtrain\u001b[0m\u001b[1;33m:\u001b[0m\u001b[1;33m\u001b[0m\u001b[1;33m\u001b[0m\u001b[0m\n",
      "\u001b[1;32mc:\\python\\python37\\lib\\site-packages\\torch\\nn\\modules\\module.py\u001b[0m in \u001b[0;36m__call__\u001b[1;34m(self, *input, **kwargs)\u001b[0m\n\u001b[0;32m    530\u001b[0m             \u001b[0mresult\u001b[0m \u001b[1;33m=\u001b[0m \u001b[0mself\u001b[0m\u001b[1;33m.\u001b[0m\u001b[0m_slow_forward\u001b[0m\u001b[1;33m(\u001b[0m\u001b[1;33m*\u001b[0m\u001b[0minput\u001b[0m\u001b[1;33m,\u001b[0m \u001b[1;33m**\u001b[0m\u001b[0mkwargs\u001b[0m\u001b[1;33m)\u001b[0m\u001b[1;33m\u001b[0m\u001b[1;33m\u001b[0m\u001b[0m\n\u001b[0;32m    531\u001b[0m         \u001b[1;32melse\u001b[0m\u001b[1;33m:\u001b[0m\u001b[1;33m\u001b[0m\u001b[1;33m\u001b[0m\u001b[0m\n\u001b[1;32m--> 532\u001b[1;33m             \u001b[0mresult\u001b[0m \u001b[1;33m=\u001b[0m \u001b[0mself\u001b[0m\u001b[1;33m.\u001b[0m\u001b[0mforward\u001b[0m\u001b[1;33m(\u001b[0m\u001b[1;33m*\u001b[0m\u001b[0minput\u001b[0m\u001b[1;33m,\u001b[0m \u001b[1;33m**\u001b[0m\u001b[0mkwargs\u001b[0m\u001b[1;33m)\u001b[0m\u001b[1;33m\u001b[0m\u001b[1;33m\u001b[0m\u001b[0m\n\u001b[0m\u001b[0;32m    533\u001b[0m         \u001b[1;32mfor\u001b[0m \u001b[0mhook\u001b[0m \u001b[1;32min\u001b[0m \u001b[0mself\u001b[0m\u001b[1;33m.\u001b[0m\u001b[0m_forward_hooks\u001b[0m\u001b[1;33m.\u001b[0m\u001b[0mvalues\u001b[0m\u001b[1;33m(\u001b[0m\u001b[1;33m)\u001b[0m\u001b[1;33m:\u001b[0m\u001b[1;33m\u001b[0m\u001b[1;33m\u001b[0m\u001b[0m\n\u001b[0;32m    534\u001b[0m             \u001b[0mhook_result\u001b[0m \u001b[1;33m=\u001b[0m \u001b[0mhook\u001b[0m\u001b[1;33m(\u001b[0m\u001b[0mself\u001b[0m\u001b[1;33m,\u001b[0m \u001b[0minput\u001b[0m\u001b[1;33m,\u001b[0m \u001b[0mresult\u001b[0m\u001b[1;33m)\u001b[0m\u001b[1;33m\u001b[0m\u001b[1;33m\u001b[0m\u001b[0m\n",
      "\u001b[1;32mc:\\python\\python37\\lib\\site-packages\\torch\\nn\\modules\\loss.py\u001b[0m in \u001b[0;36mforward\u001b[1;34m(self, input, target)\u001b[0m\n\u001b[0;32m    914\u001b[0m     \u001b[1;32mdef\u001b[0m \u001b[0mforward\u001b[0m\u001b[1;33m(\u001b[0m\u001b[0mself\u001b[0m\u001b[1;33m,\u001b[0m \u001b[0minput\u001b[0m\u001b[1;33m,\u001b[0m \u001b[0mtarget\u001b[0m\u001b[1;33m)\u001b[0m\u001b[1;33m:\u001b[0m\u001b[1;33m\u001b[0m\u001b[1;33m\u001b[0m\u001b[0m\n\u001b[0;32m    915\u001b[0m         return F.cross_entropy(input, target, weight=self.weight,\n\u001b[1;32m--> 916\u001b[1;33m                                ignore_index=self.ignore_index, reduction=self.reduction)\n\u001b[0m\u001b[0;32m    917\u001b[0m \u001b[1;33m\u001b[0m\u001b[0m\n\u001b[0;32m    918\u001b[0m \u001b[1;33m\u001b[0m\u001b[0m\n",
      "\u001b[1;32mc:\\python\\python37\\lib\\site-packages\\torch\\nn\\functional.py\u001b[0m in \u001b[0;36mcross_entropy\u001b[1;34m(input, target, weight, size_average, ignore_index, reduce, reduction)\u001b[0m\n\u001b[0;32m   2019\u001b[0m     \u001b[1;32mif\u001b[0m \u001b[0msize_average\u001b[0m \u001b[1;32mis\u001b[0m \u001b[1;32mnot\u001b[0m \u001b[1;32mNone\u001b[0m \u001b[1;32mor\u001b[0m \u001b[0mreduce\u001b[0m \u001b[1;32mis\u001b[0m \u001b[1;32mnot\u001b[0m \u001b[1;32mNone\u001b[0m\u001b[1;33m:\u001b[0m\u001b[1;33m\u001b[0m\u001b[1;33m\u001b[0m\u001b[0m\n\u001b[0;32m   2020\u001b[0m         \u001b[0mreduction\u001b[0m \u001b[1;33m=\u001b[0m \u001b[0m_Reduction\u001b[0m\u001b[1;33m.\u001b[0m\u001b[0mlegacy_get_string\u001b[0m\u001b[1;33m(\u001b[0m\u001b[0msize_average\u001b[0m\u001b[1;33m,\u001b[0m \u001b[0mreduce\u001b[0m\u001b[1;33m)\u001b[0m\u001b[1;33m\u001b[0m\u001b[1;33m\u001b[0m\u001b[0m\n\u001b[1;32m-> 2021\u001b[1;33m     \u001b[1;32mreturn\u001b[0m \u001b[0mnll_loss\u001b[0m\u001b[1;33m(\u001b[0m\u001b[0mlog_softmax\u001b[0m\u001b[1;33m(\u001b[0m\u001b[0minput\u001b[0m\u001b[1;33m,\u001b[0m \u001b[1;36m1\u001b[0m\u001b[1;33m)\u001b[0m\u001b[1;33m,\u001b[0m \u001b[0mtarget\u001b[0m\u001b[1;33m,\u001b[0m \u001b[0mweight\u001b[0m\u001b[1;33m,\u001b[0m \u001b[1;32mNone\u001b[0m\u001b[1;33m,\u001b[0m \u001b[0mignore_index\u001b[0m\u001b[1;33m,\u001b[0m \u001b[1;32mNone\u001b[0m\u001b[1;33m,\u001b[0m \u001b[0mreduction\u001b[0m\u001b[1;33m)\u001b[0m\u001b[1;33m\u001b[0m\u001b[1;33m\u001b[0m\u001b[0m\n\u001b[0m\u001b[0;32m   2022\u001b[0m \u001b[1;33m\u001b[0m\u001b[0m\n\u001b[0;32m   2023\u001b[0m \u001b[1;33m\u001b[0m\u001b[0m\n",
      "\u001b[1;32mc:\\python\\python37\\lib\\site-packages\\torch\\nn\\functional.py\u001b[0m in \u001b[0;36mlog_softmax\u001b[1;34m(input, dim, _stacklevel, dtype)\u001b[0m\n\u001b[0;32m   1315\u001b[0m         \u001b[0mdim\u001b[0m \u001b[1;33m=\u001b[0m \u001b[0m_get_softmax_dim\u001b[0m\u001b[1;33m(\u001b[0m\u001b[1;34m'log_softmax'\u001b[0m\u001b[1;33m,\u001b[0m \u001b[0minput\u001b[0m\u001b[1;33m.\u001b[0m\u001b[0mdim\u001b[0m\u001b[1;33m(\u001b[0m\u001b[1;33m)\u001b[0m\u001b[1;33m,\u001b[0m \u001b[0m_stacklevel\u001b[0m\u001b[1;33m)\u001b[0m\u001b[1;33m\u001b[0m\u001b[1;33m\u001b[0m\u001b[0m\n\u001b[0;32m   1316\u001b[0m     \u001b[1;32mif\u001b[0m \u001b[0mdtype\u001b[0m \u001b[1;32mis\u001b[0m \u001b[1;32mNone\u001b[0m\u001b[1;33m:\u001b[0m\u001b[1;33m\u001b[0m\u001b[1;33m\u001b[0m\u001b[0m\n\u001b[1;32m-> 1317\u001b[1;33m         \u001b[0mret\u001b[0m \u001b[1;33m=\u001b[0m \u001b[0minput\u001b[0m\u001b[1;33m.\u001b[0m\u001b[0mlog_softmax\u001b[0m\u001b[1;33m(\u001b[0m\u001b[0mdim\u001b[0m\u001b[1;33m)\u001b[0m\u001b[1;33m\u001b[0m\u001b[1;33m\u001b[0m\u001b[0m\n\u001b[0m\u001b[0;32m   1318\u001b[0m     \u001b[1;32melse\u001b[0m\u001b[1;33m:\u001b[0m\u001b[1;33m\u001b[0m\u001b[1;33m\u001b[0m\u001b[0m\n\u001b[0;32m   1319\u001b[0m         \u001b[0mret\u001b[0m \u001b[1;33m=\u001b[0m \u001b[0minput\u001b[0m\u001b[1;33m.\u001b[0m\u001b[0mlog_softmax\u001b[0m\u001b[1;33m(\u001b[0m\u001b[0mdim\u001b[0m\u001b[1;33m,\u001b[0m \u001b[0mdtype\u001b[0m\u001b[1;33m=\u001b[0m\u001b[0mdtype\u001b[0m\u001b[1;33m)\u001b[0m\u001b[1;33m\u001b[0m\u001b[1;33m\u001b[0m\u001b[0m\n",
      "\u001b[1;31mKeyboardInterrupt\u001b[0m: "
     ]
    }
   ],
   "source": [
    "import my_train\n",
    "importlib.reload(my_train)             # см. файл my_train.py\n",
    "from my_train import ModelTrain\n",
    "\n",
    "train = ModelTrain( model, gpu, nn.CrossEntropyLoss(weight = weight), weight = weight,\n",
    "                   info=\"Skip-gram Softmax, weight, E_DIM=100\", fname=\"Skip-gram_Softmax_weight_100\")\n",
    "\n",
    "for epoch in range(10000):              # эпоха - проход по всем примерам:\n",
    "    params = model.parameters()\n",
    "    train.optimizer = torch.optim.SGD(params, lr=1, momentum=0.8 )\n",
    "    #train.optimizer = torch.optim.Adam(params, lr=0.001, betas=(0.9, 0.999) )\n",
    "    \n",
    "    train.fit(X, Y, 512, train=True)"
   ]
  },
  {
   "cell_type": "markdown",
   "metadata": {},
   "source": [
    "## Загрузка"
   ]
  },
  {
   "cell_type": "code",
   "execution_count": 7,
   "metadata": {},
   "outputs": [
    {
     "name": "stdout",
     "output_type": "stream",
     "text": [
      "Skip-gram Softmax, no weight, E_DIM=100\n",
      "2020-06-23 02:06:50.840962\n",
      "7.3354832083396095\n",
      "0.011710524215570804\n"
     ]
    },
    {
     "data": {
      "text/plain": [
       "<All keys matched successfully>"
      ]
     },
     "execution_count": 7,
     "metadata": {},
     "output_type": "execute_result"
    }
   ],
   "source": [
    "state = torch.load('models/model_Skip-gram_Softmax_100_weights.pt', map_location=torch.device('cpu'))\n",
    "print(state['info'])\n",
    "print(state['date'])\n",
    "print(state['loss'])\n",
    "print(state['accr'])\n",
    "model.load_state_dict(state['model'])"
   ]
  },
  {
   "cell_type": "code",
   "execution_count": null,
   "metadata": {},
   "outputs": [],
   "source": [
    "import my_train\n",
    "importlib.reload(my_train)             # см. файл my_train.py\n",
    "from my_train import ModelTrain\n",
    "\n",
    "train = ModelTrain( model, gpu, nn.CrossEntropyLoss(weight=None), weight=None)\n",
    "train.fit(X[:100000], Y[:100000], 1000, train=False)"
   ]
  },
  {
   "cell_type": "code",
   "execution_count": 20,
   "metadata": {},
   "outputs": [
    {
     "name": "stdout",
     "output_type": "stream",
     "text": [
      "info: Softmax_weights, E_DIM = 100, V_DIM = 10393 + 5\n",
      "date: 2020-06-23 07:23:22.758301\n",
      "vectors: torch.Size([10398, 100])\n",
      "<NUL>      {'id': 0, 'pm': 1000001.02} tensor([0., 0., 0.])\n",
      "<UNK>      {'id': 1, 'pm': 1000000.82} tensor([-1.8304, -2.4004,  2.2808])\n",
      "<BOS>      {'id': 2, 'pm': 1000000.61} tensor([-1.4121, -2.2540,  1.0478])\n",
      "<SEP>      {'id': 3, 'pm': 1000000.41} tensor([-0.5587, -2.0395,  2.1223])\n",
      "<CVR>      {'id': 4, 'pm': 1000000.2} tensor([-1.4518, -2.7361,  1.5184])\n",
      ".          {'id': 5, 'pm': 97442.41} tensor([-0.0401, -1.9210,  2.3905])\n",
      "the        {'id': 6, 'pm': 43772.88} tensor([ 0.0898, -2.0633,  2.7011])\n",
      "to         {'id': 7, 'pm': 34918.71} tensor([ 0.1426, -2.1510,  2.3649])\n",
      "a          {'id': 8, 'pm': 28664.12} tensor([ 0.2512, -2.0496,  2.4718])\n",
      "was        {'id': 9, 'pm': 24241.35} tensor([ 0.2738, -2.1066,  2.6217])\n",
      "he         {'id': 10, 'pm': 23351.98} tensor([ 0.4245, -2.0005,  2.5291])\n"
     ]
    }
   ],
   "source": [
    "import my_embedding\n",
    "importlib.reload(my_embedding)\n",
    "w2v = my_embedding.Embedding()                        # см. файл my_embedding.py\n",
    "\n",
    "w2v.vectors = (model[0].weight.clone().detach() + model[2].weight.clone().detach() )*0.5\n",
    "w2v.vectors[0] = 0\n",
    "w2v.wordID = word_to_id \n",
    "w2v.words = id_to_word\n",
    "w2v.save(\"w2v/w2v_Softmax_100_weights.pt\", \"Softmax_weights, E_DIM = 100, V_DIM = 10393 + 5\")\n",
    "\n",
    "w2v.load(\"w2v/w2v_Softmax_100_weights.pt\")"
   ]
  },
  {
   "cell_type": "markdown",
   "metadata": {},
   "source": [
    "# Skip-gram with negative sampling"
   ]
  },
  {
   "cell_type": "code",
   "execution_count": null,
   "metadata": {},
   "outputs": [],
   "source": [
    "def create_skip_gram_dat2(pairs, mix=True):\n",
    "    \"\"\"Cоздаём обучающие  данные для метода Skip-gram с negative sampling\"\"\"\n",
    "    n_pairs = len(pairs)                           # число пар\n",
    "    \n",
    "    x_dat = np.zeros((2*n_pairs, 2), dtype=np.int32)\n",
    "    y_dat = np.zeros((2*n_pairs),    dtype=np.float32)\n",
    "    y_dat[:n_pairs] = 1.0                          # позитивные примеры вначале\n",
    "\n",
    "    for i in range(n_pairs):                       # позитивные примеры:        \n",
    "        x_dat[i,0] = word_to_id[pairs[i][0]][\"id\"] # первое слово из пары\n",
    "        x_dat[i,1] = word_to_id[pairs[i][1]][\"id\"] # второе слово из пары\n",
    "        \n",
    "    for i in range(n_pairs):                       # негативные примеры:        \n",
    "        x_dat[n_pairs+i,0] = x_dat[i,0]\n",
    "        x_dat[n_pairs+i,1] = x_dat[np.random.randint(n_pairs),1]        \n",
    "        #x_dat[n_pairs+i,1] = int(np.random.uniform(5, V_DIM)) # случайное слово\n",
    "    \n",
    "    if mix:\n",
    "        idx = np.random.permutation(y_dat.shape[0]) # целые индексы в случайном пордяке\n",
    "        x_dat = x_dat[idx]                          # с их помощью перемешиваем данные\n",
    "        y_dat = y_dat[idx]    \n",
    "    return x_dat, y_dat\n",
    "\n",
    "x_dat, y_dat = create_skip_gram_dat2(pairs)        # не все примеры!!!!\n",
    "print(x_dat.shape, y_dat.shape)"
   ]
  },
  {
   "cell_type": "code",
   "execution_count": null,
   "metadata": {},
   "outputs": [],
   "source": [
    "a=torch.arange(10)\n",
    "b=torch.arange(10)\n",
    "a.mul_(b)"
   ]
  },
  {
   "cell_type": "markdown",
   "metadata": {},
   "source": [
    "## Модель"
   ]
  },
  {
   "cell_type": "code",
   "execution_count": null,
   "metadata": {},
   "outputs": [],
   "source": [
    "class Skip_gram_Negative(nn.Module):\n",
    "    def __init__(self, V_DIM, E_DIM):        \n",
    "        super(Skip_gram_Negative, self).__init__()\n",
    "        \n",
    "        self.emb = nn.Embedding(V_DIM,E_DIM)\n",
    "        self.fc  = nn.Linear  (E_DIM, E_DIM)\n",
    "        \n",
    "    def forward(self, x):                     \n",
    "        x1  = nn.Flatten() ( self.emb(x[:,0]) )\n",
    "        x2  = nn.Flatten() ( self.emb(x[:,1]) )\n",
    "        \n",
    "        x2  = self.fc(x2)\n",
    "        \n",
    "        #x1  = F.normalize(x1)                     # единичные векторы\n",
    "        #x2  = F.normalize(x2)\n",
    "        \n",
    "        dot = x1.mul_(x2).sum(dim=1)                # cos\n",
    "        return torch.sigmoid(dot)                 # используй BCELoss!\n",
    " \n",
    "model = Skip_gram_Negative(V_DIM, 100)      \n",
    "\n",
    "model.to(gpu)\n",
    "\n",
    "from   modelsummary import summary\n",
    "summary(model, \n",
    "        torch.zeros(1, 2, dtype=torch.long).to(gpu),\n",
    "        show_input=False)\n",
    "model.forward(torch.zeros(1, 2, dtype=torch.long).to(gpu) )\n",
    "\n",
    "import torchviz      \n",
    "torchviz.make_dot(model(torch.from_numpy(X[:1])),   params = dict(model.named_parameters()) )"
   ]
  },
  {
   "cell_type": "markdown",
   "metadata": {},
   "source": [
    "#  CBOW\n",
    "<a class=\"anchor\" id=\"CBOW\"></a>"
   ]
  },
  {
   "cell_type": "markdown",
   "metadata": {},
   "source": [
    "## Обучающие данные"
   ]
  },
  {
   "cell_type": "code",
   "execution_count": 53,
   "metadata": {},
   "outputs": [
    {
     "name": "stdout",
     "output_type": "stream",
     "text": [
      "4781738 [('dan', ['<NUL>', '<NUL>', '<NUL>', '<NUL>', '<NUL>', \"'s\", 'parents', 'were', 'overweight', '.']), (\"'s\", ['<NUL>', '<NUL>', '<NUL>', '<NUL>', 'dan', 'parents', 'were', 'overweight', '.', '<NUL>']), ('parents', ['<NUL>', '<NUL>', '<NUL>', 'dan', \"'s\", 'were', 'overweight', '.', '<NUL>', '<NUL>']), ('were', ['<NUL>', '<NUL>', 'dan', \"'s\", 'parents', 'overweight', '.', '<NUL>', '<NUL>', '<NUL>']), ('overweight', ['<NUL>', 'dan', \"'s\", 'parents', 'were', '.', '<NUL>', '<NUL>', '<NUL>', '<NUL>']), ('.', ['dan', \"'s\", 'parents', 'were', 'overweight', '<NUL>', '<NUL>', '<NUL>', '<NUL>', '<NUL>']), ('dan', ['<NUL>', '<NUL>', '<NUL>', '<NUL>', '<NUL>', 'was', 'overweight', 'as', 'well', '.']), ('was', ['<NUL>', '<NUL>', '<NUL>', '<NUL>', 'dan', 'overweight', 'as', 'well', '.', '<NUL>']), ('overweight', ['<NUL>', '<NUL>', '<NUL>', 'dan', 'was', 'as', 'well', '.', '<NUL>', '<NUL>']), ('as', ['<NUL>', '<NUL>', 'dan', 'was', 'overweight', 'well', '.', '<NUL>', '<NUL>', '<NUL>'])]\n",
      "(4781738, 10) (4781738,)\n",
      "int64 int64\n"
     ]
    }
   ],
   "source": [
    "WIN       = 5       # число слов слева или справа\n",
    "NUM_WRDS  = 2*WIN   # общее число слов окружения (symmetric = True !!!)\n",
    "\n",
    "def create_CBOW(docs, WIN = 2, symmetric = True):\n",
    "    \"\"\"\n",
    "    Возвращает список слов без центрального слова c окном WIN симметричным (symmetric) или нет\n",
    "    Элементы списка кротежи - ( [w_{t-WIN},...,w_{t+WIN}], w_t ). \n",
    "    \"\"\"\n",
    "    lst = []\n",
    "    for doc in docs:\n",
    "        for sent in doc:               # бежим по предложениям\n",
    "            words = sent.split()\n",
    "            for i1 in range(len(words)): # по словам в предложении\n",
    "                if not words[i1] in word_to_id: continue\n",
    "                w1 = words[i1] \n",
    "                context = []\n",
    "        \n",
    "                if symmetric:\n",
    "                    while len(context) < WIN-i1:\n",
    "                        context.append(\"<NUL>\")                \n",
    "\n",
    "                i2_beg = max(0, i1-WIN) if symmetric else i1+1\n",
    "                for i2 in range(i2_beg, min(i1+1+WIN, len(words)) ):  # вокруг  w1            \n",
    "                    if i2==i1: continue\n",
    "                    if not words[i2] in word_to_id: continue\n",
    "                    context.append(words[i2])\n",
    "                while len(context) < (2*WIN if symmetric else WIN):\n",
    "                    context.append(\"<NUL>\")                \n",
    "                lst.append((w1, context))  \n",
    "    return lst\n",
    "\n",
    "lst = create_CBOW(docs, WIN = WIN, symmetric = True)\n",
    "print(len(lst), lst[:10])\n",
    "\n",
    "\n",
    "def create_CBOW_dat(samples):\n",
    "    \"\"\"Cоздаём обучающие  данные для метода SBOW\"\"\"\n",
    "    num = len(samples)\n",
    "    X = np.zeros((num, NUM_WRDS),  dtype=np.int64)\n",
    "    Y = np.zeros((num),            dtype=np.int64)    \n",
    "\n",
    "    for i,s in enumerate(samples):\n",
    "        for j,w in enumerate(s[1]):\n",
    "            X[i,j] = word_to_id[w][\"id\"]        \n",
    "        Y[i] = word_to_id[s[0]][\"id\"]\n",
    "        \n",
    "    idx = np.random.permutation(Y.shape[0])   # целые индексы в случайном пордяке\n",
    "    X = X[idx]                            # с их помощью перемешиваем данные\n",
    "    Y = Y[idx]    \n",
    "    return X, Y\n",
    "\n",
    "X, Y = create_CBOW_dat(lst)              \n",
    "\n",
    "print(X.shape, Y.shape)\n",
    "print(X.dtype, Y.dtype)"
   ]
  },
  {
   "cell_type": "code",
   "execution_count": null,
   "metadata": {},
   "outputs": [],
   "source": [
    "print(docs[0])\n",
    "print(lst[:10])"
   ]
  },
  {
   "cell_type": "markdown",
   "metadata": {},
   "source": [
    "## Модель1"
   ]
  },
  {
   "cell_type": "code",
   "execution_count": 46,
   "metadata": {},
   "outputs": [
    {
     "name": "stdout",
     "output_type": "stream",
     "text": [
      "-----------------------------------------------------------------------\n",
      "             Layer (type)               Output Shape         Param #\n",
      "=======================================================================\n",
      "              Embedding-1               [-1, 6, 100]       1,039,800\n",
      "                 Linear-2                [-1, 10398]       1,050,198\n",
      "=======================================================================\n",
      "Total params: 2,089,998\n",
      "Trainable params: 2,089,998\n",
      "Non-trainable params: 0\n",
      "-----------------------------------------------------------------------\n"
     ]
    }
   ],
   "source": [
    "import torch\n",
    "import torch.nn as nn\n",
    "      \n",
    "\n",
    "class SBOW_Mean(nn.Module):\n",
    "    def __init__(self, V_DIM, E_DIM):        \n",
    "        super(SBOW_Mean, self).__init__()\n",
    "        \n",
    "        self.emb = nn.Embedding(V_DIM,E_DIM)\n",
    "        self.fc  = nn.Linear   (E_DIM, V_DIM)\n",
    "        \n",
    "    def forward(self, x):                     # собственно нейронная сеть\n",
    "        x = self.emb(x)\n",
    "        x = torch.mean(x, dim=1)\n",
    "        x = self.fc (x)                \n",
    "        return x                              # используй CrossEntropyLoss\n",
    " \n",
    "model = SBOW_Mean(V_DIM, 100)                   # экземпляр сети\n",
    "\n",
    "model.to(gpu)\n",
    "\n",
    "from   modelsummary import summary\n",
    "summary(model, torch.zeros(1, 6, dtype=torch.long), show_input=False)"
   ]
  },
  {
   "cell_type": "code",
   "execution_count": null,
   "metadata": {},
   "outputs": [],
   "source": [
    "import torchviz\n",
    "torchviz.make_dot(model(torch.zeros(1, 6, dtype=torch.long)),  \n",
    "                  params = dict(model.named_parameters()) )"
   ]
  },
  {
   "cell_type": "markdown",
   "metadata": {},
   "source": [
    "## Модель2"
   ]
  },
  {
   "cell_type": "code",
   "execution_count": 66,
   "metadata": {},
   "outputs": [
    {
     "data": {
      "text/plain": [
       "SBOW_Hidden(\n",
       "  (emb): Embedding(10398, 100)\n",
       "  (fc1): Linear(in_features=1000, out_features=100, bias=True)\n",
       "  (fc2): Linear(in_features=100, out_features=10398, bias=True)\n",
       ")"
      ]
     },
     "execution_count": 66,
     "metadata": {},
     "output_type": "execute_result"
    }
   ],
   "source": [
    "class SBOW_Hidden(nn.Module):\n",
    "    def __init__(self, V_DIM, E_DIM, HIDDEN, INPUTS):        \n",
    "        super(SBOW_Hidden, self).__init__()\n",
    "        \n",
    "        self.emb = nn.Embedding(V_DIM,E_DIM)\n",
    "        self.fc1  = nn.Linear  (INPUTS*E_DIM, HIDDEN)\n",
    "        self.fc2  = nn.Linear  (HIDDEN, V_DIM)\n",
    "        \n",
    "    def forward(self, x):                     \n",
    "        x = self.emb(x)\n",
    "        x = nn.Flatten()(x)        \n",
    "        x = self.fc1(x)\n",
    "        x = nn.functional.relu(x)\n",
    "        x = self.fc2(x)                \n",
    "        return x                                # используй CrossEntropyLoss!\n",
    " \n",
    "model = SBOW_Hidden(V_DIM, 100, 100, 2*WIN) # экземпляр сети\n",
    "\n",
    "model.to(gpu)\n",
    "\n",
    "#from   modelsummary import summary\n",
    "#summary(model, torch.zeros(1, 6, dtype=torch.long), show_input=False)"
   ]
  },
  {
   "cell_type": "markdown",
   "metadata": {},
   "source": [
    "## Загрузка"
   ]
  },
  {
   "cell_type": "code",
   "execution_count": 67,
   "metadata": {},
   "outputs": [
    {
     "data": {
      "text/plain": [
       "<All keys matched successfully>"
      ]
     },
     "execution_count": 67,
     "metadata": {},
     "output_type": "execute_result"
    }
   ],
   "source": [
    "state = torch.load('models/CBOW2_weight_5_100_loss.pt', map_location=torch.device('cpu'))\n",
    " \n",
    "#model = SBOW_Mean(V_DIM, E_DIM)                    # экземпляр сети  \n",
    "model = SBOW_Hidden(V_DIM, E_DIM, E_DIM, 2*WIN)     # экземпляр сети  \n",
    "\n",
    "model.load_state_dict(state['model'])"
   ]
  },
  {
   "cell_type": "code",
   "execution_count": 68,
   "metadata": {},
   "outputs": [
    {
     "name": "stdout",
     "output_type": "stream",
     "text": [
      "    1 0:00:15 loss: 5.0892 [5.0892] cat_acc: 0.0806 [0.0806]                     \n"
     ]
    }
   ],
   "source": [
    "import my_train\n",
    "importlib.reload(my_train)             # см. файл my_train.py\n",
    "from my_train import ModelTrain\n",
    "\n",
    "train = ModelTrain( model, gpu, nn.CrossEntropyLoss(weight=weight), weight=weight)\n",
    "train.fit(X[:100000], Y[:100000], 1000, train=False)"
   ]
  },
  {
   "cell_type": "markdown",
   "metadata": {},
   "source": [
    "## WordEmbedding"
   ]
  },
  {
   "cell_type": "code",
   "execution_count": 69,
   "metadata": {},
   "outputs": [
    {
     "name": "stdout",
     "output_type": "stream",
     "text": [
      "info: By CBOW from ROCStories for WIN=5, E=100, V=10393+5\n",
      "date: 2020-06-26 09:19:20.101204\n",
      "vectors: torch.Size([10398, 100])\n",
      "<NUL>      {'id': 0, 'pm': 1000001.02} tensor([0., 0., 0.])\n",
      "<UNK>      {'id': 1, 'pm': 1000000.82} tensor([-0.5121, -0.2220,  0.6469])\n",
      "<BOS>      {'id': 2, 'pm': 1000000.61} tensor([0.2529, 1.0719, 0.4554])\n",
      "<SEP>      {'id': 3, 'pm': 1000000.41} tensor([-0.5161,  0.1821, -0.8813])\n",
      "<CVR>      {'id': 4, 'pm': 1000000.2} tensor([-1.2551,  0.9597,  0.2364])\n",
      ".          {'id': 5, 'pm': 97442.41} tensor([-0.0459,  0.0768,  0.2886])\n",
      "the        {'id': 6, 'pm': 43772.88} tensor([-0.5622, -0.4000, -0.1172])\n",
      "to         {'id': 7, 'pm': 34918.71} tensor([-0.2676, -0.1194,  0.8596])\n",
      "a          {'id': 8, 'pm': 28664.12} tensor([-0.3828, -0.5044, -0.1690])\n",
      "was        {'id': 9, 'pm': 24241.35} tensor([-0.9420,  0.5657,  0.8835])\n",
      "he         {'id': 10, 'pm': 23351.98} tensor([-1.5005,  0.9718,  0.2336])\n"
     ]
    }
   ],
   "source": [
    "import my_embedding\n",
    "importlib.reload(my_embedding)\n",
    "w2v = my_embedding.Embedding()                        # см. файл my_embedding.py\n",
    "\n",
    "w2v.vectors = model.emb.weight.clone().detach() \n",
    "w2v.vectors[0] = 0\n",
    "w2v.wordID = word_to_id \n",
    "w2v.words = id_to_word\n",
    "w2v.save(\"w2v/w2v_CBOW2_weights_WIN_5_E100.pt\", \"By CBOW from ROCStories for WIN=5, E=100, V=10393+5\")\n",
    "\n",
    "#w2v.load_Glove('C:/!/Data/nlp/Glove/glove.6B.100d.txt')\n",
    "#w2v.save(\"w2v_Glove_100.pt\", \"From Glove files, E_DIM=100, V_DIM=10000+5\")\n",
    "#w2v.load(\"w2v_Glove_100.pt\")\n",
    "\n",
    "w2v.load(\"w2v/w2v_CBOW2_weights_WIN_5_E100.pt\")"
   ]
  },
  {
   "cell_type": "markdown",
   "metadata": {},
   "source": [
    "## Обучение"
   ]
  },
  {
   "cell_type": "code",
   "execution_count": null,
   "metadata": {},
   "outputs": [],
   "source": [
    "import my_train\n",
    "importlib.reload(my_train)             # см. файл my_train.py\n",
    "from my_train import ModelTrain\n",
    "\n",
    "#optimizer = torch.optim.Adam    (params, lr=0.001, betas=(0.9, 0.999) )\n",
    "#optimizer = torch.optim.Adadelta(params, lr=1.0, rho=0.9)\n",
    "#optimizer = torch.optim.RMSprop (params, lr=0.01, alpha=0.99)\n",
    "#optimizer = torch.optim.SGD     (params, lr=0.7, momentum=0.8)\n",
    "\n",
    "train = ModelTrain( model, gpu, nn.CrossEntropyLoss(weight=weight),  weight=weight,\n",
    "                   info=\"CBOW weight, WIN=3, E_DIM=100\", fname=\"CBOW_weight_3_100\")\n",
    "\n",
    "for epoch in range(10000):                          # эпоха - проход по всем примерам:\n",
    "    params = model.parameters()\n",
    "    train.optimizer = torch.optim.Adam(params, lr=0.001, betas=(0.9, 0.999) )\n",
    "    \n",
    "    train.fit(X[:10000], Y[:10000], 100)"
   ]
  },
  {
   "cell_type": "markdown",
   "metadata": {},
   "source": [
    "## Разное"
   ]
  },
  {
   "cell_type": "code",
   "execution_count": null,
   "metadata": {},
   "outputs": [],
   "source": [
    "model = Net()\n",
    "model.load_state_dict(torch.load(\"torch_CBOW\"))\n",
    "model.eval()\n",
    "\n",
    "print(model)\n",
    "for param_tensor in model.state_dict():\n",
    "    print(param_tensor, \"\\t\", model.state_dict()[param_tensor].size())"
   ]
  },
  {
   "cell_type": "code",
   "execution_count": null,
   "metadata": {},
   "outputs": [],
   "source": [
    "vecs = net.emb.weight.detach().numpy()\n",
    "weight = net.fc.weight.detach().numpy().T\n",
    "bias = net.fc.bias.detach().numpy()\n",
    "print(vecs.shape, vecs.dtype)\n",
    "print(weight.shape, weight.dtype)\n",
    "print(bias.shape, bias.dtype)\n",
    "print(bias[:10])"
   ]
  },
  {
   "cell_type": "markdown",
   "metadata": {},
   "source": [
    "# Ближайшие соседи"
   ]
  },
  {
   "cell_type": "code",
   "execution_count": 80,
   "metadata": {},
   "outputs": [],
   "source": [
    "import my_embedding\n",
    "importlib.reload(my_embedding)                               # см. файл my_embedding.py\n",
    "w2v = my_embedding.Embedding(wordID = word_to_id,  words = id_to_word)   "
   ]
  },
  {
   "cell_type": "markdown",
   "metadata": {},
   "source": [
    "## Метод PCA"
   ]
  },
  {
   "cell_type": "code",
   "execution_count": 109,
   "metadata": {},
   "outputs": [
    {
     "name": "stdout",
     "output_type": "stream",
     "text": [
      "Calc PMI... len(docs): 98167   V_DIM: 10398\n",
      "Calc PCA... max(p12): 10.716   dtype: float64\n",
      "Normalize...\n",
      "Wall time: 9min\n"
     ]
    }
   ],
   "source": [
    "%%time\n",
    "singular_values = w2v.pca(docs, 500)"
   ]
  },
  {
   "cell_type": "code",
   "execution_count": 15,
   "metadata": {},
   "outputs": [
    {
     "data": {
      "image/png": "[encoded data removed]",
      "text/plain": [
       "<Figure size 1440x288 with 1 Axes>"
      ]
     },
     "metadata": {
      "needs_background": "light"
     },
     "output_type": "display_data"
    }
   ],
   "source": [
    "ax = plt.figure(figsize=(20, 4)).add_subplot(1, 1, 1)\n",
    "plt.plot(singular_values[:1000])\n",
    "plt.legend(['singular_values'])\n",
    "ax.grid(which='major', color='#CCCCCC', linestyle='--')\n",
    "ax.grid(which='minor', color='#CCCCCC', linestyle=':')\n",
    "plt.show()"
   ]
  },
  {
   "cell_type": "code",
   "execution_count": 110,
   "metadata": {},
   "outputs": [],
   "source": [
    "w2v.save(\"w2v/w2v_PCA_500.pt\",  \"PCA, E=500, V=10393 + 5\")"
   ]
  },
  {
   "cell_type": "code",
   "execution_count": 9,
   "metadata": {},
   "outputs": [],
   "source": [
    "import my_embedding                 # см. файл my_embedding.py\n",
    "importlib.reload(my_embedding)\n",
    "\n",
    "w2v.save(\"w2v/w2v_Softmax_100_weights.pt\",  \"Softmax_weights, E_DIM = 100, V_DIM = 10393 + 5\")\n",
    "#w2v.save(\"w2v/w2v_PCA_100.pt\",  \"PCA, E_DIM = 100, V_DIM = 10393 + 5\")"
   ]
  },
  {
   "cell_type": "markdown",
   "metadata": {},
   "source": [
    "## Гистограммы"
   ]
  },
  {
   "cell_type": "code",
   "execution_count": 105,
   "metadata": {},
   "outputs": [
    {
     "name": "stdout",
     "output_type": "stream",
     "text": [
      "info: PCA, E=300, V=10393 + 5\n",
      "date: 2020-06-29 11:32:21.169100\n",
      "vectors: torch.Size([10398, 300])\n",
      "<NUL>      {'id': 0, 'pm': 1000001.02} tensor([0., 0., 0.])\n",
      "<UNK>      {'id': 1, 'pm': 1000000.82} tensor([0., 0., 0.])\n",
      "<BOS>      {'id': 2, 'pm': 1000000.61} tensor([0., 0., 0.])\n",
      "<SEP>      {'id': 3, 'pm': 1000000.41} tensor([0., 0., 0.])\n",
      "<CVR>      {'id': 4, 'pm': 1000000.2} tensor([0., 0., 0.])\n",
      ".          {'id': 5, 'pm': 97442.41} tensor([-0.0613, -0.0002, -0.0014])\n",
      "the        {'id': 6, 'pm': 43772.88} tensor([ 0.1108,  0.1347, -0.1254])\n",
      "to         {'id': 7, 'pm': 34918.71} tensor([ 0.0575, -0.0678, -0.0021])\n",
      "a          {'id': 8, 'pm': 28664.12} tensor([ 0.1325,  0.0109, -0.0269])\n",
      "was        {'id': 9, 'pm': 24241.35} tensor([ 0.0716, -0.0553, -0.0474])\n",
      "he         {'id': 10, 'pm': 23351.98} tensor([ 0.0489, -0.0105, -0.0106])\n"
     ]
    },
    {
     "data": {
      "image/png": "[encoded data removed]",
      "text/plain": [
       "<Figure size 1152x216 with 3 Axes>"
      ]
     },
     "metadata": {
      "needs_background": "light"
     },
     "output_type": "display_data"
    },
    {
     "data": {
      "image/png": "[encoded data removed]",
      "text/plain": [
       "<Figure size 1152x360 with 3 Axes>"
      ]
     },
     "metadata": {
      "needs_background": "light"
     },
     "output_type": "display_data"
    }
   ],
   "source": [
    "import my_embedding                 # см. файл my_embedding.py\n",
    "importlib.reload(my_embedding)\n",
    "\n",
    "w2v = my_embedding.Embedding( )   \n",
    "\n",
    "#w2v.load(\"w2v/w2v_Glove_100_400k.pt\")\n",
    "w2v.load(\"w2v/w2v_PCA_300.pt\")\n",
    "#w2v.load(\"w2v/w2v_PCA_100.pt\")\n",
    "\n",
    "w2v.plot_hist_length()\n",
    "w2v.plot_cos_dis(100)"
   ]
  },
  {
   "cell_type": "code",
   "execution_count": 37,
   "metadata": {},
   "outputs": [
    {
     "name": "stdout",
     "output_type": "stream",
     "text": [
      "tensor(1.4142)\n",
      "tensor(2.)\n"
     ]
    }
   ],
   "source": [
    "x = torch.tensor([1.,1.])\n",
    "print(x.norm())\n",
    "print((x*x).sum())"
   ]
  },
  {
   "cell_type": "markdown",
   "metadata": {},
   "source": [
    "## Загрузка готовых"
   ]
  },
  {
   "cell_type": "code",
   "execution_count": 200,
   "metadata": {},
   "outputs": [
    {
     "name": "stdout",
     "output_type": "stream",
     "text": [
      "info: PCA, E=100, V=10393 + 5\n",
      "date: 2020-06-29 10:41:32.584641\n",
      "vectors: torch.Size([10398, 100])\n",
      "<NUL>      {'id': 0, 'pm': 1000001.02} tensor([0., 0., 0.])\n",
      "<UNK>      {'id': 1, 'pm': 1000000.82} tensor([0., 0., 0.])\n",
      "<BOS>      {'id': 2, 'pm': 1000000.61} tensor([0., 0., 0.])\n",
      "<SEP>      {'id': 3, 'pm': 1000000.41} tensor([0., 0., 0.])\n",
      "<CVR>      {'id': 4, 'pm': 1000000.2} tensor([0., 0., 0.])\n",
      ".          {'id': 5, 'pm': 97442.41} tensor([-0.1062, -0.0004, -0.0025])\n",
      "the        {'id': 6, 'pm': 43772.88} tensor([ 0.1919,  0.2334, -0.2173])\n",
      "to         {'id': 7, 'pm': 34918.71} tensor([ 0.0996, -0.1175, -0.0037])\n",
      "a          {'id': 8, 'pm': 28664.12} tensor([ 0.2295,  0.0189, -0.0465])\n",
      "was        {'id': 9, 'pm': 24241.35} tensor([ 0.1240, -0.0958, -0.0822])\n",
      "he         {'id': 10, 'pm': 23351.98} tensor([ 0.0848, -0.0182, -0.0184])\n"
     ]
    }
   ],
   "source": [
    "import my_embedding                 # см. файл my_embedding.py\n",
    "importlib.reload(my_embedding)\n",
    "\n",
    "w2v = my_embedding.Embedding( )    \n",
    "    \n",
    "#w2v.load_Glove('C:/!/Data/nlp/Glove/glove.6B.100d.txt', max_words=400000)\n",
    "#w2v.save(\"w2v_Glove_100_400k.pt\", \"From Glove files, E_DIM = 100, V_DIM = 400k + 5\")\n",
    "#w2v.load(\"w2v/w2v_Glove_100_400k.pt\")\n",
    "\n",
    "#w2v.load(\"w2v/w2v_Skip_Gram_Soft_100.pt\")\n",
    "#w2v.load(\"w2v/w2v_CBOW_100.pt\")\n",
    "\n",
    "#w2v.load(\"w2v/w2v_Softmax_100_weights.pt\")\n",
    "w2v.load(\"w2v/w2v_PCA_100.pt\")\n",
    "\n",
    "#w2v.load(\"w2v/w2v_CBOW1_weights_WIN_5_E100.pt\")"
   ]
  },
  {
   "cell_type": "markdown",
   "metadata": {},
   "source": [
    "## Бинарные классификаторы"
   ]
  },
  {
   "cell_type": "code",
   "execution_count": 111,
   "metadata": {},
   "outputs": [
    {
     "name": "stdout",
     "output_type": "stream",
     "text": [
      "len(docs):98167   0.003\n",
      "  0.851 98100 \n",
      "  0.851\n"
     ]
    }
   ],
   "source": [
    "print(f\"len(docs):{len(docs)}  {1.0/np.sqrt(len(docs)): 0.3f}\")\n",
    "ok = 0 \n",
    "for i,d in enumerate(docs):\n",
    "    s0 = ''.join(d[:-1])                           # история \n",
    "    s1 = d[-1]                                     # её продолжение\n",
    "    s2 = docs[np.random.randint(len(docs))][-1]    # продолжение сл.истории\n",
    "    \n",
    "    ok += w2v.bin_classifier1    (s0, s1 , s2)\n",
    "    #ok += w2v.bin_classifier_BOW(s0, s1, s2)\n",
    "    \n",
    "    if i % 100 == 0 and i > 0:\n",
    "        print('\\r', f\"{ok/i: .3f} {i:5} \", end='')\n",
    "print(\"\\n\",f\" {ok/len(docs):.3f}\")"
   ]
  },
  {
   "cell_type": "code",
   "execution_count": null,
   "metadata": {},
   "outputs": [],
   "source": [
    "0.756  BOW unknown\n",
    "0.757  BOW все слова\n",
    "0.772  BOW - stop, все слова\n",
    "\n",
    "0.744  Glove_100_400k\n",
    "0.754  Skip-Gram Soft 100_10k\n",
    "0.777  Skip-Gram Soft 100_10k по всему предложению пары\n",
    "0.731  SBOW W3        100_10k\n",
    "\n",
    "0.773  PCA100 единичные векторы\n",
    "0.810  PCA100 деление на std, единичные векторы\n",
    "0.813  PCA100 выч.ср., деление на std, единичные векторы\n",
    "0.827  PCA100 выч.ср., деление на std - не единичные!\n",
    "\n",
    "0.808  PCA_50\n",
    "0.827  PCA_100\n",
    "0.834  PCA_200\n",
    "0.841  PCA_300\n",
    "0.851  PCA_500\n",
    "\n",
    "0.879  CBOW1_W5_E100\n",
    "0.767  CBOW2_W5_E100"
   ]
  },
  {
   "cell_type": "code",
   "execution_count": 75,
   "metadata": {},
   "outputs": [
    {
     "name": "stdout",
     "output_type": "stream",
     "text": [
      " my friends all love to go to the club to dance .  they think it 's a lot of fun and always invite .  i finally decided to tag along last saturday .  i danced terribly and broke a friend 's toe . \n",
      "*  the next weekend , i was asked to please stay home . \n",
      "*  my friends decided to keep inviting me out as i am so much fun . \n",
      "0\n",
      "{'to', 'i'}\n",
      "{'decided', 'my', 'to', 'i', 'fun', 'friends'}\n",
      "\n",
      " 0.561\n"
     ]
    }
   ],
   "source": [
    "len1 = []\n",
    "len2 = []\n",
    "ok = 0 \n",
    "stop = {'the', 'a', '.'}\n",
    "for i,d in enumerate(docs):\n",
    "    len1.append(len(d[1].split()))\n",
    "    len2.append(len(d[2].split()))\n",
    "    res = w2v.bin_classifier1    (d[0], d[1], d[2])\n",
    "    #res = w2v.bin_classifier_BOW(d[0], d[1], d[2], stop)        \n",
    "    ok += res\n",
    "    if i == 0:\n",
    "        print(d[0])\n",
    "        print(\"*\", d[1])\n",
    "        print(\"*\", d[2])\n",
    "        print(res)\n",
    "        s0 = set( d[0].split() ) - stop\n",
    "        s1 = set( d[1].split() ) - stop\n",
    "        s2 = set( d[2].split() ) - stop\n",
    "        print(s0 & s1)\n",
    "        print(s0 & s2)\n",
    "print(\"\\n\",f\"{ok/len(docs):.3f}\")"
   ]
  },
  {
   "cell_type": "code",
   "execution_count": 356,
   "metadata": {},
   "outputs": [
    {
     "name": "stdout",
     "output_type": "stream",
     "text": [
      "1871 0.02311868386304882\n",
      "8.72260823089257\n",
      "8.5264564404062\n"
     ]
    }
   ],
   "source": [
    "print(len(docs), 1/np.sqrt(len(docs)))\n",
    "print(np.array(len1).mean())\n",
    "print(np.array(len2).mean())"
   ]
  },
  {
   "cell_type": "code",
   "execution_count": 277,
   "metadata": {},
   "outputs": [
    {
     "name": "stdout",
     "output_type": "stream",
     "text": [
      "tensor([-4., -3., -2., -1.,  0.,  1.,  2.,  3.,  4.])\n"
     ]
    },
    {
     "data": {
      "text/plain": [
       "tensor([4.])"
      ]
     },
     "execution_count": 277,
     "metadata": {},
     "output_type": "execute_result"
    }
   ],
   "source": [
    "a = torch.arange(9, dtype= torch.float) - 4\n",
    "b = a.reshape((3, 3))\n",
    "print(a)\n",
    "torch.norm(a, p=2, dim=0, keepdim=True, out=a)"
   ]
  },
  {
   "cell_type": "code",
   "execution_count": 142,
   "metadata": {},
   "outputs": [],
   "source": [
    "w2v.save(\"w2v_PCA_100.pt\", \"From PCA method, E_DIM = 100, V_DIM = 10393  + 5\")"
   ]
  },
  {
   "cell_type": "code",
   "execution_count": 191,
   "metadata": {},
   "outputs": [
    {
     "name": "stdout",
     "output_type": "stream",
     "text": [
      "cat    0.00  0.94  1.01  0.90  1.07  1.02  0.84  1.01  0.93 \n",
      "car    0.94  0.00  0.97  1.07  1.06  0.87  1.02  1.02  0.97 \n",
      "apple  1.01  0.97  0.00  0.99  0.94  0.84  0.94  1.03  0.93 \n",
      "gin    0.90  1.07  0.99  0.00  1.16  0.90  1.01  1.09  0.93 \n",
      "monday 1.07  1.06  0.94  1.16  0.00  0.89  1.09  1.15  1.05 \n",
      "red    1.02  0.87  0.84  0.90  0.89  0.00  0.98  1.05  0.99 \n",
      "small  0.84  1.02  0.94  1.01  1.09  0.98  0.00  1.04  1.01 \n",
      "say    1.01  1.02  1.03  1.09  1.15  1.05  1.04  0.00  0.76 \n",
      "can    0.93  0.97  0.93  0.93  1.05  0.99  1.01  0.76  0.00 \n"
     ]
    }
   ],
   "source": [
    "wrds = [\"cat\", \"car\", \"apple\", \"gin\", \"monday\", \"red\", \"small\", \"say\", \"can\"]\n",
    "for w1 in wrds:\n",
    "    print(f\"{w1:6s}\", end=\"\")\n",
    "    for w2 in wrds:\n",
    "        print(f\"{w2v.dist_cos(w2v(w1), w2v(w2)).item(): .2f}\", end=\" \")\n",
    "    print()"
   ]
  },
  {
   "cell_type": "code",
   "execution_count": null,
   "metadata": {},
   "outputs": [],
   "source": [
    "import my_embedding                # см. файл my_embedding.py\n",
    "importlib.reload(my_embedding)           \n",
    "\n",
    "w2v = my_embedding.Embedding()                       \n",
    "\n",
    "#w2v.load(\"w2v/w2v_CBOW_100.pt\")\n",
    "#w2v.load(\"w2v/w2v_Skip_Gram_Soft_100.pt\")\n",
    "w2v.load(\"w2v/w2v_Glove_100_100k.pt\")"
   ]
  },
  {
   "cell_type": "code",
   "execution_count": 113,
   "metadata": {},
   "outputs": [],
   "source": [
    "drink1   = [\"drink\", \"water\", \"milk\",  \"tea\", \"coffee\", \"juice\", \"soda\",\"coke\"]\n",
    "drink2   = [\"alcohol\", \"wine\", \"beer\",  \"martini\", \"vodka\", \"champagne\"]\n",
    "food     = [\"food\", \"bread\", \"butter\", \"cheese\",  \"rice\", \"potatoes\", \"salad\", \"sausage\", \"pizza\", \n",
    "            \"sandwich\", \"steak\", \"chicken\", \"beef\", \"pasta\", \"hamburger\", \"bacon\", \"toast\", \"soup\",\"popcorn\" ]\n",
    "\n",
    "fruit    = ['fruit', 'orange', 'apple','peach','banana','cherry','pumpkin', 'lemon','strawberry','watermelon']\n",
    "\n",
    "animal1  = [\"dog\",\"cat\", \"kitten\", \"kitty\", \"puppy\", \"rabbit\"]\n",
    "animal2  = [\"lizard\", \"squirrel\", \"turtle\", \"snake\", \"frog\", \"rat\"]\n",
    "\n",
    "horse    = [\"horse\", \"donkey\", \"cow\", \"camel\", \"deer\", \"giraffe\", \"moose\"]\n",
    "bird     = [\"bird\", \"duck\", \"eagle\", \"crow\" ]\n",
    "insect   = [\"insect\", \"caterpillar\",\"butterfly\",\"spider\"]\n",
    "\n",
    "name1    = ['amy', 'anna', 'gina', 'jane', 'kate', 'kelly', \n",
    "            'kim', 'lucy', 'mary', 'sally', 'sarah', 'tina']\n",
    "name2    = ['ben', 'bob', 'dan', 'fred', 'jack', 'jake', \n",
    "            'james', 'jim', 'joe', 'john', 'mark', 'mike', 'sam', 'tim', 'tom']\n",
    "\n",
    "dayweek  = ['monday','tuesday','wednesday','thursday','friday','saturday','sunday']\n",
    "month    = [\"january\",\"february\",\"march\",\"april\",\"may\",\"june\",\"july\",\n",
    "            \"august\",\"september\",\"october\",\"november\",\"december\"]\n",
    "\n",
    "country0 = [\"america\",\"africa\", \"europe\",\"asia\"]\n",
    "country1 = [\"germany\", \"italy\", \"spain\", \"france\", \"england\",\"ireland\", \"russia\" ]\n",
    "country2 = [\"canada\",\"mexico\",\"brazil\",\"america\"]\n",
    "country3 = [\"japan\",  \"iraq\", \"india\", \"china\", \"korea\", \"egypt\",\"kenya\", \"australia\"]\n",
    "\n",
    "state    = [\"alabama\",\"alaska\",\"arizona\",\"california\",\"florida\",\"georgia\",\n",
    "            \"hawaii\",\"indiana\",\"miami\",\"montana\",\n",
    "            \"nebraska\",\"ohio\",\"orlando\",\"philadelphia\",\"texas\",\"vermont\",\"virginia\"]\n",
    "\n",
    "city    =  [\"city\",\"paris\", \"london\",\"rome\",  \"chicago\",\"dallas\",\"detroit\"]\n",
    "\n",
    "color   =  [\"color\",  \"red\", \"green\", \"blue\", \"yellow\", \"pink\", \"purple\", \"brown\", \"orange\", \"white\", 'black', 'grey']\n",
    "\n",
    "verb1   =  [\"go\", \"put\", \"take\", \"give\"]\n",
    "verb2   =  [\"think\", \"say\", \"listen\", \"answer\", \"watch\"]\n",
    "\n",
    "entities = [drink1, drink2, food, fruit, animal1, animal2, horse, bird, insect, name1,name2,dayweek,\n",
    "            month,country0,country1,country2,country3,state,city]\n",
    "\n",
    "other  = [color, verb1,verb2]"
   ]
  },
  {
   "cell_type": "code",
   "execution_count": 204,
   "metadata": {},
   "outputs": [
    {
     "name": "stdout",
     "output_type": "stream",
     "text": [
      "* tom: ['worry (1.39)', 'babysitting (1.35)', 'babysit (1.35)', 'kindergarten (1.34)', 'hello (1.32)', 'daycare (1.29)', 'crawl (1.29)', 'wandered (1.28)', 'blocks (1.28)', 'thrilled (1.27)', 'laying (1.27)', 'toddler (1.26)', 'rushing (1.26)', 'crib (1.26)', 'prayed (1.26)', 'playground (1.26)', 'giggled (1.26)', 'waits (1.26)', 'wondering (1.26)', 'bedtime (1.26)', 'gate (1.26)', 'goodbye (1.25)', 'santa (1.25)', 'bell (1.25)', 'accomplish (1.25)', 'tower (1.25)', 'sleeps (1.25)', 'shift (1.24)', 'raise (1.24)', 'presents (1.24)', 'share (1.24)', 'oldest (1.24)', 'prayer (1.24)', 'till (1.24)', 'count (1.24)', 'sit (1.24)', 'choir (1.24)', 'crying (1.23)', 'cry (1.23)', 'wake (1.23)', 'asks (1.23)', 'chores (1.23)', 'doll (1.23)', 'decorate (1.23)', 'comfort (1.23)', 'dozen (1.23)', 'hoped (1.22)', 'chosen (1.22)', 'rushes (1.22)', 'square (1.22)', 'grown (1.22)', 'begging (1.22)', 'danced (1.22)', 'drawn (1.22)', 'asking (1.22)', 'willing (1.22)', 'mama (1.22)', 'reply (1.22)', 'snails (1.22)', 'randomly (1.22)', 'pregnant (1.22)', 'holding (1.22)', '8 (1.22)', 'exactly (1.22)', 'easter (1.22)', 'sisters (1.22)', 'nap (1.22)', 'inch (1.21)', 'cuts (1.21)', 'pointing (1.21)', 'wants (1.21)', 'steps (1.21)', 'stopping (1.21)', 'inches (1.21)', 'faith (1.21)', 'cupcakes (1.21)', 'rush (1.21)', 'introduce (1.21)', 'slip (1.21)', 'stare (1.21)', \"he'll (1.21)\", 'puppies (1.21)', 'suppose (1.21)', 'lemonade (1.21)', 'needless (1.21)', 'marry (1.21)', 'means (1.21)', 'guess (1.21)', 'egg (1.21)', 'errands (1.21)', 'tell (1.20)', 'wish (1.20)', 'recess (1.20)', 'knock (1.20)', 'reach (1.20)', 'stops (1.20)', 'section (1.20)', 'standing (1.20)', 'hesitated (1.20)', 'pages (1.20)']\n"
     ]
    }
   ],
   "source": [
    "w2v.nearest_to_word(\"tom\", count=100,  reverse=True)"
   ]
  },
  {
   "cell_type": "code",
   "execution_count": null,
   "metadata": {},
   "outputs": [],
   "source": [
    "%%time\n",
    "w2v.nearest_to_list(color, count=25, only_words=False, pm_min=10)"
   ]
  },
  {
   "cell_type": "code",
   "execution_count": null,
   "metadata": {},
   "outputs": [],
   "source": [
    "%%time\n",
    "w2v.nearest_to_list([\"car\", \"bus\"], count=25, only_words=False, pm_min=10)"
   ]
  },
  {
   "cell_type": "code",
   "execution_count": null,
   "metadata": {},
   "outputs": [],
   "source": [
    "for w in color:\n",
    "    print(\"%-10s  %8.2f\" % (w, word_to_id[w][\"pm\"] if w in word_to_id else 0))"
   ]
  },
  {
   "cell_type": "markdown",
   "metadata": {},
   "source": [
    "## Кластеры"
   ]
  },
  {
   "cell_type": "code",
   "execution_count": 127,
   "metadata": {},
   "outputs": [
    {
     "name": "stdout",
     "output_type": "stream",
     "text": [
      "info: PCA, E=100, V=10393 + 5\n",
      "date: 2020-06-29 10:41:32.584641\n",
      "vectors: torch.Size([10398, 100])\n",
      "<NUL>      {'id': 0, 'pm': 1000001.02} tensor([0., 0., 0.])\n",
      "<UNK>      {'id': 1, 'pm': 1000000.82} tensor([0., 0., 0.])\n",
      "<BOS>      {'id': 2, 'pm': 1000000.61} tensor([0., 0., 0.])\n",
      "<SEP>      {'id': 3, 'pm': 1000000.41} tensor([0., 0., 0.])\n",
      "<CVR>      {'id': 4, 'pm': 1000000.2} tensor([0., 0., 0.])\n",
      ".          {'id': 5, 'pm': 97442.41} tensor([-0.1062, -0.0004, -0.0025])\n",
      "the        {'id': 6, 'pm': 43772.88} tensor([ 0.1919,  0.2334, -0.2173])\n",
      "to         {'id': 7, 'pm': 34918.71} tensor([ 0.0996, -0.1175, -0.0037])\n",
      "a          {'id': 8, 'pm': 28664.12} tensor([ 0.2295,  0.0189, -0.0465])\n",
      "was        {'id': 9, 'pm': 24241.35} tensor([ 0.1240, -0.0958, -0.0822])\n",
      "he         {'id': 10, 'pm': 23351.98} tensor([ 0.0848, -0.0182, -0.0184])\n"
     ]
    },
    {
     "data": {
      "image/png": "[encoded data removed]",
      "text/plain": [
       "<Figure size 1152x216 with 3 Axes>"
      ]
     },
     "metadata": {
      "needs_background": "light"
     },
     "output_type": "display_data"
    }
   ],
   "source": [
    "import my_embedding                 # см. файл my_embedding.py\n",
    "importlib.reload(my_embedding)\n",
    "\n",
    "w2v = my_embedding.Embedding( )    \n",
    "w2v.load(\"w2v/w2v_PCA_100.pt\")\n",
    "\n",
    "plt.figure(figsize=(16,3)) \n",
    "plt.subplot(1, 3, 1)\n",
    "w2v.plot_claster(fruit)\n",
    "plt.subplot(1, 3, 2)\n",
    "w2v.plot_claster(dayweek)\n",
    "plt.subplot(1, 3, 3)\n",
    "w2v.plot_claster(color)\n",
    "plt.show()"
   ]
  },
  {
   "cell_type": "code",
   "execution_count": null,
   "metadata": {},
   "outputs": [],
   "source": [
    "for e in entities:\n",
    "    print( f\"{e[0]:15s} {e[1]:15s} {e[2]:15s}  {w2v.claster_size(e) :4.2f}\" )"
   ]
  },
  {
   "cell_type": "code",
   "execution_count": null,
   "metadata": {},
   "outputs": [],
   "source": [
    "for e in other:\n",
    "    print( f\"{e[0]:15s} {e[1]:15s} {e[2]:15s}  {w2v.claster_size(e) :4.2f}\" )"
   ]
  },
  {
   "cell_type": "markdown",
   "metadata": {},
   "source": [
    "## Семантические направления"
   ]
  },
  {
   "cell_type": "code",
   "execution_count": 139,
   "metadata": {},
   "outputs": [
    {
     "name": "stdout",
     "output_type": "stream",
     "text": [
      "[he          she       ]   23352 - 19702|    0.63| 0.00   0.56   0.60   0.44   0.68   0.71   0.84  \n",
      "[man         woman     ]    1020 -   311|    1.35| 0.56   0.00   0.57   0.74   0.84   0.91   0.75  \n",
      "[boy         girl      ]     378 -   551|    1.18| 0.60   0.57   0.00   0.78   0.85   0.77   0.76  \n",
      "[father      mother    ]     319 -   744|    1.43| 0.44   0.74   0.78   0.00   0.64   1.06   1.13  \n",
      "[uncle       aunt      ]      68 -    76|    1.34| 0.68   0.84   0.85   0.64   0.00   0.95   1.10  \n",
      "[nephew      niece     ]      38 -    65|    1.18| 0.71   0.91   0.77   1.06   0.95   0.00   0.87  \n",
      "[king        queen     ]      29 -    17|    1.00| 0.84   0.75   0.76   1.13   1.10   0.87   0.00  \n"
     ]
    }
   ],
   "source": [
    "def get_dirs(dirs):\n",
    "    for d1 in dirs:\n",
    "        v1 = w2v(d1[0])-w2v(d1[1])\n",
    "        print(\"[%-10s  %-10s]   %5.0f - %5.0f\" % (d1[0], d1[1], w2v.wordID[d1[0]][\"pm\"], w2v.wordID[d1[1]][\"pm\"]), end = \"|   \")\n",
    "        print(\"%5.2f\" % (v1.norm()), end = \"|\")\n",
    "        for d2 in dirs:\n",
    "            v2 = w2v(d2[0])-w2v(d2[1])\n",
    "            print(f\"{w2v.dist(v1,v2).item():5.2f}\", end=\"  \")\n",
    "        print()\n",
    "\n",
    "dirs = [(\"he\", \"she\"), (\"man\",\"woman\"), (\"boy\", \"girl\"), (\"father\", \"mother\"), \n",
    "        (\"uncle\", \"aunt\"), (\"nephew\", \"niece\"), (\"king\", \"queen\")]\n",
    "\n",
    "get_dirs(dirs)"
   ]
  },
  {
   "cell_type": "code",
   "execution_count": 140,
   "metadata": {},
   "outputs": [
    {
     "name": "stdout",
     "output_type": "stream",
     "text": [
      "[old         young     ]     778 -   175|    2.23| 0.00   0.99   0.93   1.05   1.09  \n",
      "[man         boy       ]    1020 -   378|    1.81| 0.99   0.00   0.32   0.94   0.92  \n",
      "[woman       girl      ]     311 -   551|    1.58| 0.93   0.32   0.00   0.97   0.94  \n",
      "[grandpa     dad       ]      56 -   568|    1.54| 1.05   0.94   0.97   0.00   0.66  \n",
      "[grandmother  mother    ]     120 -   744|    1.45| 1.09   0.92   0.94   0.66   0.00  \n"
     ]
    }
   ],
   "source": [
    "dirs = [(\"old\", \"young\"), (\"man\",\"boy\"), (\"woman\", \"girl\"), (\"grandpa\", \"dad\"), (\"grandmother\", \"mother\")]\n",
    "\n",
    "get_dirs(dirs)"
   ]
  },
  {
   "cell_type": "code",
   "execution_count": null,
   "metadata": {},
   "outputs": [],
   "source": [
    "w2v.nearest_to_vec(w2v('man')   + w2v('girl')  - w2v('boy')  ) \n",
    "w2v.nearest_to_vec(w2v('king')  + w2v('woman') - w2v('man')  )\n",
    "w2v.nearest_to_vec(w2v('king')  + w2v('she')   - w2v('he')   )\n",
    "w2v.nearest_to_vec(w2v('woman') + w2v('he')    - w2v('she')  )\n",
    "w2v.nearest_to_vec(w2v('apple') + w2v('oranges') - w2v('orange'))\n",
    "w2v.nearest_to_vec(w2v('man')   + w2v('women')   - w2v('men'))\n",
    "\n",
    "print(w2v('apple').norm() )\n",
    "print((w2v('apple')-w2v('apples')).norm() )\n",
    "print((w2v('oranges') - w2v('orange')).norm() )\n",
    "\n",
    "\n",
    "print(w2v('man').norm(), (w2v('man') - w2v('woman')).norm() )"
   ]
  },
  {
   "cell_type": "markdown",
   "metadata": {},
   "source": [
    "# ROCStories продолжения\n",
    "<a class=\"anchor\" id=\"ROCStories\"></a>\n",
    "\n",
    "## Загружаем тестовые данные"
   ]
  },
  {
   "cell_type": "code",
   "execution_count": 73,
   "metadata": {},
   "outputs": [
    {
     "name": "stdout",
     "output_type": "stream",
     "text": [
      " john was writing lyrics for his new album .  he started experiencing writer 's block .  he tried to force himself to write but it wouldn't do anything .  he took a walk , hung out with some friends , and looked at nature . \n",
      "*  he felt inspiration and then went back home to write . \n",
      "*  john then got an idea for his painting . \n",
      "Wall time: 961 ms\n"
     ]
    }
   ],
   "source": [
    "%%time\n",
    "import my_nlp                         # см. файл my_npl.py\n",
    "importlib.reload(my_nlp)                              \n",
    "\n",
    "DIR = \"C:/!/Data/nlp/ROCStories/\"    # локальная загрузка\n",
    "\n",
    "df = pd.read_csv(DIR + 'test_spring2016.tsv', sep='\\t')     # прочитать из файла \n",
    "\n",
    "docs = []\n",
    "answers = np.array([], dtype=\"int8\")\n",
    "for i in range(len(df.iloc[:,0])):\n",
    "    sents = []\n",
    "    st = \"\"\n",
    "    for j in range(4):\n",
    "        st += my_nlp.preprocess(df.iloc[i,1+j])\n",
    "    sents.append( st ) \n",
    "    if df.iloc[i,7] == 1:\n",
    "        sents.append(my_nlp.preprocess( df.iloc[i,5]) ) \n",
    "        sents.append(my_nlp.preprocess( df.iloc[i,6]) ) \n",
    "    else:\n",
    "        sents.append(my_nlp.preprocess( df.iloc[i,6]) ) \n",
    "        sents.append(my_nlp.preprocess( df.iloc[i,5]) ) \n",
    "    \n",
    "    docs.append(sents)\n",
    "    \n",
    "id = 4\n",
    "print(docs[id][0])\n",
    "print(\"*\", docs[id][1])\n",
    "print(\"*\", docs[id][2])\n",
    "   "
   ]
  },
  {
   "cell_type": "code",
   "execution_count": 415,
   "metadata": {},
   "outputs": [
    {
     "name": "stdout",
     "output_type": "stream",
     "text": [
      " john was writing lyrics for his new album .  he started experiencing writer 's block .  he tried to force himself to write but it wouldn't do anything .  he took a walk , hung out with some friends , and looked at nature . \n",
      "*  he felt inspiration and then went back home to write . \n",
      "*  john then got an idea for his painting . \n",
      "1\n",
      "Wall time: 479 ms\n"
     ]
    }
   ],
   "source": [
    "%%time\n",
    "import my_nlp                         # см. файл my_npl.py\n",
    "importlib.reload(my_nlp)                              \n",
    "\n",
    "DIR = \"C:/!/Data/nlp/ROCStories/\"    # локальная загрузка\n",
    "\n",
    "df = pd.read_csv(DIR + 'test_spring2016.tsv', sep='\\t')     # прочитать из файла \n",
    "\n",
    "docs    = []\n",
    "answers = np.array([], dtype=\"int8\")\n",
    "for i in range(len(df.iloc[:,0])):\n",
    "    sents = []\n",
    "    st = \"\"\n",
    "    for j in range(4):\n",
    "        st += my_nlp.preprocess(df.iloc[i,1+j])\n",
    "    sents.append( st ) \n",
    "    sents.append(my_nlp.preprocess( df.iloc[i,5]) ) \n",
    "    sents.append(my_nlp.preprocess( df.iloc[i,6]) ) \n",
    "    answers = np.append(answers, df.iloc[i,7])\n",
    "    docs.append(sents)\n",
    "    \n",
    "id = 4\n",
    "print(docs[id][0])\n",
    "print(\"*\", docs[id][1])\n",
    "print(\"*\", docs[id][2])\n",
    "print(answers[id])    "
   ]
  },
  {
   "cell_type": "code",
   "execution_count": 412,
   "metadata": {},
   "outputs": [
    {
     "name": "stdout",
     "output_type": "stream",
     "text": [
      "min: 21,  mean: 39.85,  max: 61\n",
      "min:  3,  mean: 8.72,  max: 17\n",
      "min:  4,  mean: 8.53,  max: 16\n",
      "Answers: 0 0\n"
     ]
    },
    {
     "data": {
      "image/png": "[encoded data removed]",
      "text/plain": [
       "<Figure size 1080x360 with 3 Axes>"
      ]
     },
     "metadata": {
      "needs_background": "light"
     },
     "output_type": "display_data"
    }
   ],
   "source": [
    "def stat(id, get_nums=False):\n",
    "    nums = np.empty(len(docs))\n",
    "    for i,d in enumerate(docs):\n",
    "        nums[i] = len(d[id].split())\n",
    "    if get_nums:\n",
    "        return nums\n",
    "    return np.min(nums), np.mean(nums), np.max(nums)\n",
    "\n",
    "print(\"min: %2.0f,  mean: %4.2f,  max: %2.0f\" % (stat(0)))\n",
    "print(\"min: %2.0f,  mean: %4.2f,  max: %2.0f\" % (stat(1)))\n",
    "print(\"min: %2.0f,  mean: %4.2f,  max: %2.0f\" % (stat(2)))\n",
    "\n",
    "print(\"Answers:\", len(answers == 1), len(answers == 2))\n",
    "\n",
    "plt.figure(figsize=(15,5))      \n",
    "for i in range(3):    \n",
    "    plt.subplot(1, 3, i+1) \n",
    "    plt.hist(stat(i, True), 8, density=True); \n",
    "plt.show() "
   ]
  },
  {
   "cell_type": "markdown",
   "metadata": {},
   "source": [
    "## Загружаем Embedding"
   ]
  },
  {
   "cell_type": "code",
   "execution_count": null,
   "metadata": {},
   "outputs": [],
   "source": [
    "w2v = WordEmbedding()\n",
    "w2v.load(\"w2v_CBOW_100.pt\")\n",
    "#w2v.load(\"w2v_glove_100.pt\")\n",
    "   \n",
    "V_DIM = w2v.vectors.shape[0]\n",
    "E_DIM  = w2v.vectors.shape[1]"
   ]
  },
  {
   "cell_type": "code",
   "execution_count": null,
   "metadata": {},
   "outputs": [],
   "source": [
    "def get_aver_vec(st):\n",
    "    res = torch.zeros(E_DIM)\n",
    "    for w in st.split():\n",
    "        res.add_(w2v.vec(w))\n",
    "    return res/((res*res).sum())**0.5\n",
    "    \n",
    "num = 0    \n",
    "for i, doc in enumerate(docs):\n",
    "    v0 = get_aver_vec(doc[0]).clone()\n",
    "    v1 = get_aver_vec(doc[1]).clone()\n",
    "    v2 = get_aver_vec(doc[2]).clone()\n",
    "    answer = 1\n",
    "    if v0.dot(v1) < v0.dot(v2): answer = 2\n",
    "    if(answer==answers[i]): num += 1\n",
    "print(\"%.3f (%.3f)\" % (num/len(docs), 1/len(docs)**0.5) )"
   ]
  },
  {
   "cell_type": "markdown",
   "metadata": {},
   "source": [
    "## Создаём обучающие массивы"
   ]
  },
  {
   "cell_type": "code",
   "execution_count": null,
   "metadata": {},
   "outputs": [],
   "source": [
    "STORY_LEN  = 60\n",
    "END_LEN    = 16\n",
    "\n",
    "story = torch.zeros( len(docs),  STORY_LEN, dtype=torch.long)\n",
    "end1  = torch.zeros( len(docs),  END_LEN ,  dtype=torch.long)\n",
    "end2  = torch.zeros( len(docs),  END_LEN ,  dtype=torch.long)\n",
    "\n",
    "y_dat = torch.zeros( len(docs),  1,         dtype=torch.float) \n",
    "\n",
    "def set_arr(arr, st,  max_len):\n",
    "    for k, w in enumerate(st.split()):\n",
    "        if k < max_len:\n",
    "            arr[k] = w2v.index(w)  \n",
    "            \n",
    "for i,doc in enumerate(docs):\n",
    "    set_arr(story[i], doc[0], STORY_LEN)\n",
    "    set_arr(end1 [i], doc[1], END_LEN)\n",
    "    set_arr(end2 [i], doc[2], END_LEN)\n",
    "    y_dat[i].fill_( answers[i]-1 )\n",
    " \n",
    "\"\"\"\n",
    "num = 0\n",
    "for i in range(y_dat.shape[0]):\n",
    "    if answers[i] == 1:\n",
    "        end2[i].copy_(end1[np.random.randint(0, y_dat.shape[0])])\n",
    "        num += 1\n",
    "    else:\n",
    "        end1[i].copy_(end2[np.random.randint(0, y_dat.shape[0])])\n",
    "print(num)\n",
    "\"\"\"\n",
    "\n",
    "print(story.shape,y_dat.shape)\n",
    "#print(story[0,:])\n",
    "#print(end1[0,:])\n",
    "#print(y_dat[:10])"
   ]
  },
  {
   "cell_type": "code",
   "execution_count": null,
   "metadata": {},
   "outputs": [],
   "source": [
    "def get_aver_vec(txt):\n",
    "    res = torch.zeros(E_DIM)\n",
    "    for i in range(txt.shape[0]):\n",
    "        res.add_(w2v.vectors[txt[i]])\n",
    "    return res/((res*res).sum())**0.5\n",
    "    \n",
    "num = 0    \n",
    "for i, doc in enumerate(docs):\n",
    "    v0 = get_aver_vec(story[i])\n",
    "    v1 = get_aver_vec(end1 [i])\n",
    "    v2 = get_aver_vec(end2 [i])\n",
    "    \n",
    "    answer = 1\n",
    "    if v0.dot(v1) < v0.dot(v2): answer = 2        \n",
    "    if(answer==answers[i]): num += 1\n",
    "        \n",
    "print(\"%.4f (%.2f)\" % (num/len(docs), 1/len(docs)**0.5) )"
   ]
  },
  {
   "cell_type": "markdown",
   "metadata": {},
   "source": [
    "## Модель 1: Сумма векторов истории"
   ]
  },
  {
   "cell_type": "code",
   "execution_count": null,
   "metadata": {},
   "outputs": [],
   "source": [
    "class ROC(nn.Module):\n",
    "    def __init__(self):        \n",
    "        super(ROC, self).__init__()\n",
    "        \n",
    "        self.emb = nn.Embedding(V_DIM,E_DIM)\n",
    "        with torch.no_grad():\n",
    "            self.emb.weight.copy_(w2v.vectors)\n",
    "        \n",
    "    def forward(self, story, end1, end2 ):           # собственно нейронная сеть\n",
    "        story = self.emb(story).mean(1)\n",
    "        end1  = self.emb(end1).mean(1)\n",
    "        end2  = self.emb(end2).mean(1)\n",
    "\n",
    "        r1 = nn.CosineSimilarity()(story, end1)\n",
    "        r2 = nn.CosineSimilarity()(story, end2)\n",
    "        \n",
    "        return nn.Sigmoid()(r2-r1)\n",
    " \n",
    "model = ROC()                                        # экземпляр сети\n",
    "\n",
    "\n",
    "for param in model.parameters():\n",
    "    print(param.numel(),  tuple(param.size()))\n",
    "    \n",
    "#import torchviz    \n",
    "#torchviz.make_dot(model(story, end1, end2),     params = dict(model.named_parameters()) )    "
   ]
  },
  {
   "cell_type": "code",
   "execution_count": null,
   "metadata": {},
   "outputs": [],
   "source": [
    "y = model(story, end1, end2) \n",
    "((y>0.5).float() == y_dat[:,0]).float().mean()"
   ]
  },
  {
   "cell_type": "markdown",
   "metadata": {},
   "source": [
    "## Кратко\n",
    "### Загрузка, словарь"
   ]
  },
  {
   "cell_type": "code",
   "execution_count": 141,
   "metadata": {},
   "outputs": [
    {
     "name": "stdout",
     "output_type": "stream",
     "text": [
      "[' carrie had just learned how to ride a bike . ', \" she didn't have a bike of her own . \", \" carrie would sneak rides on her sister's bike . \", ' she got nervous on a hill and crashed into a wall . ', ' the bike frame bent and carrie got a deep gash on her leg . ']\n"
     ]
    }
   ],
   "source": [
    "import re\n",
    "import pandas as pd                               # csv-файлы\n",
    "\n",
    "def preprocess(s):\n",
    "    s = s.translate( {ord(c): ' ' for c in \"\\u202f\\u200b\\xa0\"} ) # пробелы\n",
    "    s = s.translate( {ord(c): ' ' for c in \"\\\"«»\"} )             # кавычки\n",
    "    s = re.sub( '\\s+', ' ', s).strip()                           # двойные пробелы \n",
    "    s = s.lower()                                                # в нижнем регистре    \n",
    "    \n",
    "    res = []\n",
    "    for i, ch in enumerate(s):                                   # отделяем пунктуацию\n",
    "        if ch in \".,:;!?…%\" and s[i-1] != ' ': res.append(' '+ch)\n",
    "        else:                                  res.append(ch)            \n",
    "            \n",
    "    return (' '+ \"\".join(res)+' ' )                              # для поиска целых слов: \" girl \"\n",
    "\n",
    "df = pd.read_csv('C:/!/Data/nlp/ROCStories/100KStories.zip', sep=',')     # прочитать из файла \n",
    "\n",
    "docs = []                                                        # список историй (документов)\n",
    "for i in range(len(df.iloc[:,0])):                        \n",
    "    sents = []                                                   # список предложений истории\n",
    "    for j in range(5):\n",
    "        sents.append( preprocess( df.iloc[i,2+j]) )   \n",
    "    docs.append(sents)\n",
    "        \n",
    "print(docs[1])        "
   ]
  },
  {
   "cell_type": "code",
   "execution_count": 142,
   "metadata": {},
   "outputs": [
    {
     "name": "stdout",
     "output_type": "stream",
     "text": [
      "4836164\n",
      "38957\n"
     ]
    }
   ],
   "source": [
    "from   collections import Counter\n",
    "\n",
    "cnt = Counter()                     # словарь\n",
    "tot_words = 0                       # всего слов в тексте\n",
    "for d in docs:                      # по документам\n",
    "    for s in d:                     # по предложениям документа\n",
    "        for w in s.split():         # по словам предложения\n",
    "            cnt[w] += 1             # добавляем в словарь\n",
    "            tot_words += 1                      \n",
    "\n",
    "print(tot_words)                    # всего слов в тексте            \n",
    "print(len(cnt))                      # слов в словаре\n",
    "\n",
    "SIZE_DIC = min(10000, len(cnt))\n",
    "wordID = dict( cnt.most_common(SIZE_DIC)  ) \n",
    "words  = [w for w in wordID]\n",
    "for i,w in enumerate(wordID):\n",
    "    wordID[w] = {\"id\": i,  \"pm\": int(1000000*(cnt[w]/tot_words)) }\n"
   ]
  },
  {
   "cell_type": "code",
   "execution_count": 56,
   "metadata": {},
   "outputs": [
    {
     "data": {
      "text/plain": [
       "11352"
      ]
     },
     "execution_count": 56,
     "metadata": {},
     "output_type": "execute_result"
    }
   ],
   "source": [
    "sum(v >=10 for v in cnt.values())"
   ]
  },
  {
   "cell_type": "code",
   "execution_count": 143,
   "metadata": {},
   "outputs": [
    {
     "name": "stdout",
     "output_type": "stream",
     "text": [
      "'.':97915, 'the':43985, 'to':35088, 'a':28798, 'was':24358, 'he':23373, 'she':19736, 'and':19174, 'her':14964, ',':14277, 'his':13410, 'it':12368, 'i':10603, 'in':10521, 'of':9739, 'for':8965, 'had':8870, 'on':7442, 'they':6601, 'at':5439, 'with':5227, 'that':4978, 'up':4815, 'out':4562, 'him':4476, 'my':4476, 'one':4341, 'went':4282, 'day':4198, 'when':3941, 'but':3910, 'got':3902, 'decided':3683, 'all':3405, 'were':3322, '!':3156, 'so':3049, 'wanted':3030, 'new':2789, 'as':2679, 'an':2574, 'very':2553, 'them':2446, 'not':2300, 'home':2282, 'from':2226, 'after':2211, 'we':2188, 'get':2129, 'time':2120, 'would':2094, "
     ]
    }
   ],
   "source": [
    "for i,w in enumerate(wordID):\n",
    "    if i > 50: break\n",
    "    print(\"'%s':%d\" % (w, wordID[w][\"pm\"]), end=\", \"  )"
   ]
  },
  {
   "cell_type": "markdown",
   "metadata": {},
   "source": [
    "### PCA и SVD"
   ]
  },
  {
   "cell_type": "code",
   "execution_count": 145,
   "metadata": {},
   "outputs": [],
   "source": [
    "import numpy as np\n",
    "np.set_printoptions(precision=3, suppress=True)            # число цифр после точки в print\n",
    "    \n",
    "class Embedding:\n",
    "    def __init__(self, wordID, vectors = None):      \n",
    "        self.wordID   = wordID                             # словарь слов  {the: {'id': 1, 'pm': 43976},...}\n",
    "        self.vectors  = vectors                            # матрица векторов        \n",
    "\n",
    "    def idx(self, word):\n",
    "        return self.wordID[word][\"id\"]\n",
    "        \n",
    "    def __call__(self, word):\n",
    "        return self.vectors[self.wordID[word][\"id\"]]       # вектор по слову (скобочный оператор)          \n",
    "\n",
    "    def prob(self, docs):\n",
    "        SIZE_DIC = len(self.wordID)\n",
    "        p12 = np.zeros((SIZE_DIC, SIZE_DIC))               # совместные вероятоности                         \n",
    "        p1  = np.zeros((SIZE_DIC,))                        # частоты слов        \n",
    "\n",
    "        num_sent = 0\n",
    "        for d in docs:                                      # по документам\n",
    "            for s in d:                                     # по предложениям документа    \n",
    "                ws = set(s.split())                         # \"словарь\" предложения        \n",
    "                num_sent += 1\n",
    "                for w1 in ws:                                                           \n",
    "                    if w1 in self.wordID:\n",
    "                        p1[self.idx(w1)] += 1\n",
    "                        for w2 in ws:    \n",
    "                            if w1 != w2  and w2 in self. wordID:\n",
    "                                p12[ self.idx(w1), self.idx(w2) ] += 1   \n",
    "                                    \n",
    "        p12 /= p12.sum()\n",
    "        p1  /= p1.sum()\n",
    "                                \n",
    "        self.p1      = p1\n",
    "        self.p12     = p12\n",
    "        self.vectors = p12 / ( p1.reshape((SIZE_DIC,1)) @ p1.reshape((1, SIZE_DIC)) )\n",
    "        \n",
    "        self.vectors[self.vectors <= 0] = 1          \n",
    "        self.vectors = np.log(self.vectors) \n",
    "        self.vectors[self.vectors <= 0] = 0        "
   ]
  },
  {
   "cell_type": "code",
   "execution_count": 146,
   "metadata": {},
   "outputs": [
    {
     "name": "stdout",
     "output_type": "stream",
     "text": [
      "98167 10000\n",
      "Wall time: 54.2 s\n"
     ]
    }
   ],
   "source": [
    "%%time\n",
    "print(len(docs), len(wordID) )\n",
    "w2v = Embedding(wordID)\n",
    "w2v.prob(docs)"
   ]
  },
  {
   "cell_type": "code",
   "execution_count": 147,
   "metadata": {},
   "outputs": [
    {
     "name": "stdout",
     "output_type": "stream",
     "text": [
      "(10000,)\n",
      "[(6.463615189911084, 'narrowly'), (5.801239668017892, 'driven'), (5.801226740362701, 'driver'), (5.60163277784096, 'drivers'), (5.482785936899358, 'hopped'), (5.22498372413971, 'backing'), (5.221657887170128, 'rear'), (5.216786956935531, 'atlanta'), (5.1237469256657455, 'gasoline'), (5.119623208481883, 'exited'), (5.07651426872596, 'rental'), (5.0249475929240734, 'swerved'), (4.85892224486121, 'aiden'), (4.82473337814261, 'piled'), (4.811321848827366, 'faithful'), (4.725539495863865, 'trolley'), (4.725390852236687, 'pulls'), (4.718281817557581, 'ny'), (4.711055686314217, 'fare'), (4.677459823037326, 'passenger'), (4.569220809604069, 'payments'), (4.5442590635783215, 'shuttle'), (4.477093993189769, 'loaded'), (4.426476027921938, 'hopping'), (4.426476027921938, 'chaos'), (4.308692992265554, 'rumble'), (4.266729362590558, 'sped'), (4.227658901109109, 'stops'), (4.215754996606285, 'roar'), (4.21227673222996, 'seat'), (4.172831088360112, 'boarded'), (4.165775064301265, 'fabulous'), (4.150175350960303, 'bump'), (4.101236543163694, 'drives'), (4.067301578520436, 'stop'), (4.058395185838078, 'slowed'), (4.03239231530392, 'tourist'), (4.024174775175277, 'rc'), (4.014819873298341, 'dealership'), (3.9844448826256817, 'icy'), (3.9832705918309266, 'brakes'), (3.981615160756481, 'totaled'), (3.968894918674759, 't'), (3.9125479900964453, 'striking'), (3.9125479900964453, 'frida'), (3.9125479900964453, '1975'), (3.8817763314296916, 'louise'), (3.8786876989737618, 'heidi'), (3.851111883018376, 'bethany'), (3.789670601295385, 'atm')]\n"
     ]
    },
    {
     "data": {
      "text/plain": [
       "'meowed'"
      ]
     },
     "execution_count": 147,
     "metadata": {},
     "output_type": "execute_result"
    }
   ],
   "source": [
    "v = w2v.vectors[w2v.idx(\"car\")] + w2v.vectors[w2v.idx(\"bus\")] \n",
    "print(v.shape)\n",
    "lst = [(v,words[i]) for i,v in enumerate(v) ]\n",
    "lst = sorted(lst, key= lambda k: -k[0])\n",
    "print(lst[:50])\n",
    "i = np.argmax(w2v.vectors[w2v.idx(\"cat\")])\n",
    "words[i]"
   ]
  },
  {
   "cell_type": "code",
   "execution_count": 176,
   "metadata": {},
   "outputs": [
    {
     "name": "stdout",
     "output_type": "stream",
     "text": [
      " 0.0  0.0  1.7  0.8  1.0  0.9  0.9  0.0  0.0  1.9  0.4  0.8  0.4  0.0  0.0  0.4  0.0  0.6  0.0 "
     ]
    }
   ],
   "source": [
    "wrds = [\"bark\",  \"paws\", \"collar\",  \"vet\", \"claw\", \n",
    "        \"wheel\", \"gas\", \"driver\",   \"stops\", \"motion\",  \n",
    "        \"red\", \"white\", \n",
    "        \"the\", \"very\", \"after\", \"we\", \"not\", \"can\", \"to\"]\n",
    "w0 = \"put\"   \n",
    "for w in wrds:\n",
    "        print (\" %.1f\" % ( w2v.vectors[w2v.idx(w0), w2v.idx(w)]), end=\" \" )\n"
   ]
  },
  {
   "cell_type": "code",
   "execution_count": null,
   "metadata": {},
   "outputs": [],
   "source": [
    "print(w2v.p12[w2v.idx(\"cat\"), w2v.idx(\"dog\")])\n",
    "print(w2v.p1[w2v.idx(\"cat\")],  w2v.p1[w2v.idx(\"dog\")], w2v.p1[w2v.idx(\"cat\")]*w2v.p1[w2v.idx(\"dog\")])\n",
    "\n",
    "print(w2v.p12[w2v.idx(\"cat\"), w2v.idx(\"the\")])\n",
    "print(w2v.p1[w2v.idx(\"cat\")],  w2v.p1[w2v.idx(\"the\")], w2v.p1[w2v.idx(\"cat\")]*w2v.p1[w2v.idx(\"the\")])\n",
    "\n",
    "print(w2v.p12[w2v.idx(\"cat\"), w2v.idx(\"did\")])\n",
    "print(w2v.p1[w2v.idx(\"cat\")],  w2v.p1[w2v.idx(\"did\")], w2v.p1[w2v.idx(\"cat\")]*w2v.p1[w2v.idx(\"did\")])\n",
    "\n",
    "\n",
    "print(wordID[\"cat\"],wordID[\"did\"])"
   ]
  },
  {
   "cell_type": "code",
   "execution_count": null,
   "metadata": {},
   "outputs": [],
   "source": [
    "#print(w2v(\"cat\")[:10])\n",
    "#print(w2v(\"dog\")[:10])\n",
    "#print(w2v(\"car\")[:10])\n",
    "#print(w2v(\"bus\")[:10])\n",
    "\n",
    "def cos(u, v):    return 1 - u.dot(v)/np.sqrt(u.dot(u)*v.dot(v))\n",
    "def dis(u, v):    return  np.linalg.norm(v-u)\n",
    "\n",
    "\n",
    "w2v.vectors = res[:, :100]\n",
    "\n",
    "words = [\"cat\", \"dog\", \"puppy\", \"car\", \"bus\", \"train\"]\n",
    "for w1 in words:\n",
    "    print(\"%8d\" % (wordID[w1][\"pm\"]), end=\": \" )\n",
    "    for w2 in words:\n",
    "        if w1 == w2: print(\"    \", end=\" \")\n",
    "        else:        print(\"%.2f\" % ( cos (w2v(w1), w2v(w2) )), end=\" \" )\n",
    "    print()"
   ]
  },
  {
   "cell_type": "code",
   "execution_count": null,
   "metadata": {},
   "outputs": [],
   "source": [
    "%%time\n",
    "from sklearn.decomposition import PCA\n",
    "\n",
    "pca = PCA()\n",
    "res = pca.fit_transform(w2v.vectors)"
   ]
  },
  {
   "cell_type": "code",
   "execution_count": null,
   "metadata": {},
   "outputs": [],
   "source": [
    "import matplotlib.pyplot as plt                   # постороение графиков\n",
    "\n",
    "ax = plt.figure(figsize=(6, 4)).add_subplot(1, 1, 1)\n",
    "plt.plot(pca.singular_values_[:100])\n",
    "plt.legend(['singular_values_'])\n",
    "ax.grid(which='major', color='#CCCCCC', linestyle='--')\n",
    "ax.grid(which='minor', color='#CCCCCC', linestyle=':')\n",
    "plt.show()"
   ]
  },
  {
   "cell_type": "code",
   "execution_count": null,
   "metadata": {},
   "outputs": [],
   "source": [
    "from   sklearn.decomposition import PCA\n",
    "\n",
    "X = np.random.random((16,8))\n",
    "\n",
    "pca = PCA()\n",
    "res1 = pca.fit_transform(X)[:,:2]\n",
    "\n",
    "U, S, V = np.linalg.svd(X - X.mean(axis=0))         # вычитаем среднее, делаем SVD\n",
    "\n",
    "res2 = U[:, :2] @ np.diag(S[:2]) \n",
    "res1-res2"
   ]
  },
  {
   "cell_type": "code",
   "execution_count": null,
   "metadata": {},
   "outputs": [],
   "source": [
    "words = \"the cat likes the mat\".split()\n",
    "pairs = []                             # список пар\n",
    "WIN = 2                                # слов слева и справа от центрального\n",
    "for i1, w1 in enumerate(words):      \n",
    "    for i2 in range(max(0, i1-WIN), min(i1+WIN+1, len(words)) ):  # вокруг  w1            \n",
    "        if i2 != i1:\n",
    "            pairs.append( (w1, words[i2]) )         \n",
    "pairs"
   ]
  }
 ],
 "metadata": {
  "kernelspec": {
   "display_name": "Python 3 (ipykernel)",
   "language": "python",
   "name": "python3"
  },
  "language_info": {
   "codemirror_mode": {
    "name": "ipython",
    "version": 3
   },
   "file_extension": ".py",
   "mimetype": "text/x-python",
   "name": "python",
   "nbconvert_exporter": "python",
   "pygments_lexer": "ipython3",
   "version": "3.8.3"
  },
  "toc": {
   "base_numbering": 1,
   "nav_menu": {},
   "number_sections": true,
   "sideBar": true,
   "skip_h1_title": false,
   "title_cell": "Table of Contents",
   "title_sidebar": "Contents",
   "toc_cell": false,
   "toc_position": {
    "height": "calc(100% - 180px)",
    "left": "10px",
    "top": "150px",
    "width": "273.466px"
   },
   "toc_section_display": true,
   "toc_window_display": true
  }
 },
 "nbformat": 4,
 "nbformat_minor": 4
}
